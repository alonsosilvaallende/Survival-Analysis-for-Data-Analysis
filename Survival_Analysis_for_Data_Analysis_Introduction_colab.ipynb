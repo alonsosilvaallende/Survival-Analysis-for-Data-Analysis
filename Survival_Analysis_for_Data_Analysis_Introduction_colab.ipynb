{
  "nbformat": 4,
  "nbformat_minor": 0,
  "metadata": {
    "kernelspec": {
      "display_name": "Python 3",
      "language": "python",
      "name": "python3"
    },
    "language_info": {
      "codemirror_mode": {
        "name": "ipython",
        "version": 3
      },
      "file_extension": ".py",
      "mimetype": "text/x-python",
      "name": "python",
      "nbconvert_exporter": "python",
      "pygments_lexer": "ipython3",
      "version": "3.8.2"
    },
    "colab": {
      "name": "Survival-Analysis-for-Data-Analysis-Introduction-colab.ipynb",
      "provenance": [],
      "collapsed_sections": [],
      "include_colab_link": true
    }
  },
  "cells": [
    {
      "cell_type": "markdown",
      "metadata": {
        "id": "view-in-github",
        "colab_type": "text"
      },
      "source": [
        "<a href=\"https://colab.research.google.com/github/alonsosilvaallende/Survival-Analysis-for-Data-Analysis/blob/master/Survival_Analysis_for_Data_Analysis_Introduction_colab.ipynb\" target=\"_parent\"><img src=\"https://colab.research.google.com/assets/colab-badge.svg\" alt=\"Open In Colab\"/></a>"
      ]
    },
    {
      "cell_type": "markdown",
      "metadata": {
        "id": "aEj365e4uTvD",
        "colab_type": "text"
      },
      "source": [
        "# Survival Analysis"
      ]
    },
    {
      "cell_type": "markdown",
      "metadata": {
        "heading_collapsed": true,
        "id": "0Z1wEfUFuTvG",
        "colab_type": "text"
      },
      "source": [
        "* Historically, survival analysis was developed and used by actuaries\n",
        "and medical researchers to measure the lifetime of populations.\n",
        "* What's the expected lifetime of patients that were given drug A? drug B?\n",
        "* What's the life-expectancy of a baby born today in France?\n",
        "\n",
        "These researchers wanted to measure the duration between *Birth* and *Death*\n",
        "\n",
        "\n",
        "Source: [Lifelines: Survival Analysis in Python](https://www.youtube.com/watch?v=XQfxndJH4UA)\n"
      ]
    },
    {
      "cell_type": "markdown",
      "metadata": {
        "id": "JxSbfi7QuTvI",
        "colab_type": "text"
      },
      "source": [
        "# Survival function and hazard function"
      ]
    },
    {
      "cell_type": "markdown",
      "metadata": {
        "id": "fXfTmltSuTvK",
        "colab_type": "text"
      },
      "source": [
        "**Definition:** Let $T$ be a random variable called failure time.\n",
        "\n",
        "- $f(t)$ be its probability density function\n",
        "- $F(t):=\\mathcal{P}(T\\le t)$ its cumulative distribution function\n",
        "\n",
        "Then we define\n",
        "\n",
        "- The *survival function* $S(t):=\\mathcal{P}(T>t)=1-F(t)$.\n",
        "- The *hazard function* (probability of failure between $t$ and $t+\\delta t$ knowing that it was working at time $t$):\n",
        "$$\n",
        "h(t):=\\lim_{\\delta t\\to0}\\frac{\\mathcal{P}(T<t+\\delta t|T>t)}{\\delta t}=\n",
        "\\lim_{\\delta t\\to0}\\frac{F(t+\\delta t)-F(t)}{\\delta t}\\times\\frac{1}{1-F(t)}=\\frac{f(t)}{1-F(t)}.\n",
        "$$"
      ]
    },
    {
      "cell_type": "markdown",
      "metadata": {
        "id": "ZBY8J3sxuTvM",
        "colab_type": "text"
      },
      "source": [
        "**Properties:**\n",
        "- $S(t)=\\exp(-\\int_0^t h(s)\\,ds)$.\n",
        "- $h(t)=-\\frac{d}{dt}\\ln(S(t))$."
      ]
    },
    {
      "cell_type": "markdown",
      "metadata": {
        "id": "1VYNZWpmuTvO",
        "colab_type": "text"
      },
      "source": [
        "# Right censoring\n",
        "\n",
        "By the end of the study, the event of interest (for example, in medicine \"death of a patient\" or \"churn of a customer\") has only occurred for a subset of the observations.\n",
        "\n"
      ]
    },
    {
      "cell_type": "markdown",
      "metadata": {
        "id": "vao5BhTYuTvP",
        "colab_type": "text"
      },
      "source": [
        "# Modern Survival Analysis\n",
        "\n",
        "+ **Birth:** Customer joins Netflix  \n",
        "**Death:** Customer leaves Netflix  \n",
        "**Censorship:** At the current time, I cannot see all cancelations  \n",
        "  \n",
        "  \n",
        "+ **Birth:** Leader forms government  \n",
        "**Death:** Government dissolves  \n",
        "**Censorship:** Death of leader or current time do not allow me to see all dissolvements  \n",
        "\n",
        "\n",
        "+ **Birth:** Couple starts dating  \n",
        "**Death:** Couple breaks-up  \n",
        "**Censorship:** Some couples never break-up (partner's death comes first)  "
      ]
    },
    {
      "cell_type": "markdown",
      "metadata": {
        "id": "EVUDoqXOuTvU",
        "colab_type": "text"
      },
      "source": [
        "First, let's take a dataset from lifelines to see what does it mean in practice."
      ]
    },
    {
      "cell_type": "code",
      "metadata": {
        "id": "IcqsnDunuZ3x",
        "colab_type": "code",
        "colab": {}
      },
      "source": [
        "!pip install -q lifelines"
      ],
      "execution_count": 0,
      "outputs": []
    },
    {
      "cell_type": "code",
      "metadata": {
        "ExecuteTime": {
          "end_time": "2020-01-09T22:37:10.331529Z",
          "start_time": "2020-01-09T22:37:03.811697Z"
        },
        "id": "A5qmUxSxuTvW",
        "colab_type": "code",
        "colab": {}
      },
      "source": [
        "import matplotlib.pyplot as plt\n",
        "import pandas as pd\n",
        "import numpy as np\n",
        "plt.style.use('seaborn')"
      ],
      "execution_count": 0,
      "outputs": []
    },
    {
      "cell_type": "code",
      "metadata": {
        "id": "-Hz_oM2IuTve",
        "colab_type": "code",
        "colab": {}
      },
      "source": [
        "from lifelines.datasets import load_dd\n",
        "\n",
        "df = load_dd()\n",
        "df = df[['ctryname', 'un_region_name', 'un_continent_name', 'ehead',\\\n",
        "         'democracy', 'regime', 'start_year', 'duration', 'observed']]"
      ],
      "execution_count": 0,
      "outputs": []
    },
    {
      "cell_type": "markdown",
      "metadata": {
        "id": "xCN-nZXDuTvk",
        "colab_type": "text"
      },
      "source": [
        "# Democracy and dictatorship\n",
        "\n",
        "This dataset contains a classification of political regimes as democracy and dictatorship.\n",
        "* Classification of democracies as \n",
        "  + parliamentary, \n",
        "  + semi-presidential (mixed), and \n",
        "  + presidential. \n",
        "  \n",
        "* Classification of dictatorships as \n",
        "  + military, \n",
        "  + civilian, and \n",
        "  + royal. \n",
        "  \n",
        "Coverage: 202 countries, from 1946 or year of independence to 2008.\n",
        "\n",
        "**References**\n",
        "\n",
        "José Antonio Cheibub, Jennifer Gandhi, and James Raymond Vreeland. [\"Democracy and Dictatorship Revisited.\"](https://doi.org/10.1007/s11127-009-9491-2) Public Choice, vol. 143, no. 2-1, pp. 67-101, 2010."
      ]
    },
    {
      "cell_type": "code",
      "metadata": {
        "ExecuteTime": {
          "end_time": "2020-01-09T22:37:10.515360Z",
          "start_time": "2020-01-09T22:37:10.466697Z"
        },
        "id": "9b51kQDjuTvm",
        "colab_type": "code",
        "colab": {
          "base_uri": "https://localhost:8080/",
          "height": 254
        },
        "outputId": "1ea45343-5c47-44fa-8dfc-7511d18776a0"
      },
      "source": [
        "df.tail(10).style.hide_index()"
      ],
      "execution_count": 4,
      "outputs": [
        {
          "output_type": "execute_result",
          "data": {
            "text/html": [
              "<style  type=\"text/css\" >\n",
              "</style><table id=\"T_c31e4c20_988c_11ea_bdb4_0242ac1c0002\" ><thead>    <tr>        <th class=\"col_heading level0 col0\" >ctryname</th>        <th class=\"col_heading level0 col1\" >un_region_name</th>        <th class=\"col_heading level0 col2\" >un_continent_name</th>        <th class=\"col_heading level0 col3\" >ehead</th>        <th class=\"col_heading level0 col4\" >democracy</th>        <th class=\"col_heading level0 col5\" >regime</th>        <th class=\"col_heading level0 col6\" >start_year</th>        <th class=\"col_heading level0 col7\" >duration</th>        <th class=\"col_heading level0 col8\" >observed</th>    </tr></thead><tbody>\n",
              "                <tr>\n",
              "                                <td id=\"T_c31e4c20_988c_11ea_bdb4_0242ac1c0002row0_col0\" class=\"data row0 col0\" >Yugoslavia</td>\n",
              "                        <td id=\"T_c31e4c20_988c_11ea_bdb4_0242ac1c0002row0_col1\" class=\"data row0 col1\" >Southern Europe</td>\n",
              "                        <td id=\"T_c31e4c20_988c_11ea_bdb4_0242ac1c0002row0_col2\" class=\"data row0 col2\" >Europe</td>\n",
              "                        <td id=\"T_c31e4c20_988c_11ea_bdb4_0242ac1c0002row0_col3\" class=\"data row0 col3\" >Stipe Suvar</td>\n",
              "                        <td id=\"T_c31e4c20_988c_11ea_bdb4_0242ac1c0002row0_col4\" class=\"data row0 col4\" >Non-democracy</td>\n",
              "                        <td id=\"T_c31e4c20_988c_11ea_bdb4_0242ac1c0002row0_col5\" class=\"data row0 col5\" >Civilian Dict</td>\n",
              "                        <td id=\"T_c31e4c20_988c_11ea_bdb4_0242ac1c0002row0_col6\" class=\"data row0 col6\" >1988</td>\n",
              "                        <td id=\"T_c31e4c20_988c_11ea_bdb4_0242ac1c0002row0_col7\" class=\"data row0 col7\" >1</td>\n",
              "                        <td id=\"T_c31e4c20_988c_11ea_bdb4_0242ac1c0002row0_col8\" class=\"data row0 col8\" >1</td>\n",
              "            </tr>\n",
              "            <tr>\n",
              "                                <td id=\"T_c31e4c20_988c_11ea_bdb4_0242ac1c0002row1_col0\" class=\"data row1 col0\" >Yugoslavia</td>\n",
              "                        <td id=\"T_c31e4c20_988c_11ea_bdb4_0242ac1c0002row1_col1\" class=\"data row1 col1\" >Southern Europe</td>\n",
              "                        <td id=\"T_c31e4c20_988c_11ea_bdb4_0242ac1c0002row1_col2\" class=\"data row1 col2\" >Europe</td>\n",
              "                        <td id=\"T_c31e4c20_988c_11ea_bdb4_0242ac1c0002row1_col3\" class=\"data row1 col3\" >Milan Pancevski</td>\n",
              "                        <td id=\"T_c31e4c20_988c_11ea_bdb4_0242ac1c0002row1_col4\" class=\"data row1 col4\" >Non-democracy</td>\n",
              "                        <td id=\"T_c31e4c20_988c_11ea_bdb4_0242ac1c0002row1_col5\" class=\"data row1 col5\" >Civilian Dict</td>\n",
              "                        <td id=\"T_c31e4c20_988c_11ea_bdb4_0242ac1c0002row1_col6\" class=\"data row1 col6\" >1989</td>\n",
              "                        <td id=\"T_c31e4c20_988c_11ea_bdb4_0242ac1c0002row1_col7\" class=\"data row1 col7\" >1</td>\n",
              "                        <td id=\"T_c31e4c20_988c_11ea_bdb4_0242ac1c0002row1_col8\" class=\"data row1 col8\" >1</td>\n",
              "            </tr>\n",
              "            <tr>\n",
              "                                <td id=\"T_c31e4c20_988c_11ea_bdb4_0242ac1c0002row2_col0\" class=\"data row2 col0\" >Yugoslavia</td>\n",
              "                        <td id=\"T_c31e4c20_988c_11ea_bdb4_0242ac1c0002row2_col1\" class=\"data row2 col1\" >Southern Europe</td>\n",
              "                        <td id=\"T_c31e4c20_988c_11ea_bdb4_0242ac1c0002row2_col2\" class=\"data row2 col2\" >Europe</td>\n",
              "                        <td id=\"T_c31e4c20_988c_11ea_bdb4_0242ac1c0002row2_col3\" class=\"data row2 col3\" >Borisav Jovic</td>\n",
              "                        <td id=\"T_c31e4c20_988c_11ea_bdb4_0242ac1c0002row2_col4\" class=\"data row2 col4\" >Non-democracy</td>\n",
              "                        <td id=\"T_c31e4c20_988c_11ea_bdb4_0242ac1c0002row2_col5\" class=\"data row2 col5\" >Civilian Dict</td>\n",
              "                        <td id=\"T_c31e4c20_988c_11ea_bdb4_0242ac1c0002row2_col6\" class=\"data row2 col6\" >1990</td>\n",
              "                        <td id=\"T_c31e4c20_988c_11ea_bdb4_0242ac1c0002row2_col7\" class=\"data row2 col7\" >1</td>\n",
              "                        <td id=\"T_c31e4c20_988c_11ea_bdb4_0242ac1c0002row2_col8\" class=\"data row2 col8\" >0</td>\n",
              "            </tr>\n",
              "            <tr>\n",
              "                                <td id=\"T_c31e4c20_988c_11ea_bdb4_0242ac1c0002row3_col0\" class=\"data row3 col0\" >Zambia</td>\n",
              "                        <td id=\"T_c31e4c20_988c_11ea_bdb4_0242ac1c0002row3_col1\" class=\"data row3 col1\" >Eastern Africa</td>\n",
              "                        <td id=\"T_c31e4c20_988c_11ea_bdb4_0242ac1c0002row3_col2\" class=\"data row3 col2\" >Africa</td>\n",
              "                        <td id=\"T_c31e4c20_988c_11ea_bdb4_0242ac1c0002row3_col3\" class=\"data row3 col3\" >Kenneth Kaunda</td>\n",
              "                        <td id=\"T_c31e4c20_988c_11ea_bdb4_0242ac1c0002row3_col4\" class=\"data row3 col4\" >Non-democracy</td>\n",
              "                        <td id=\"T_c31e4c20_988c_11ea_bdb4_0242ac1c0002row3_col5\" class=\"data row3 col5\" >Civilian Dict</td>\n",
              "                        <td id=\"T_c31e4c20_988c_11ea_bdb4_0242ac1c0002row3_col6\" class=\"data row3 col6\" >1964</td>\n",
              "                        <td id=\"T_c31e4c20_988c_11ea_bdb4_0242ac1c0002row3_col7\" class=\"data row3 col7\" >27</td>\n",
              "                        <td id=\"T_c31e4c20_988c_11ea_bdb4_0242ac1c0002row3_col8\" class=\"data row3 col8\" >1</td>\n",
              "            </tr>\n",
              "            <tr>\n",
              "                                <td id=\"T_c31e4c20_988c_11ea_bdb4_0242ac1c0002row4_col0\" class=\"data row4 col0\" >Zambia</td>\n",
              "                        <td id=\"T_c31e4c20_988c_11ea_bdb4_0242ac1c0002row4_col1\" class=\"data row4 col1\" >Eastern Africa</td>\n",
              "                        <td id=\"T_c31e4c20_988c_11ea_bdb4_0242ac1c0002row4_col2\" class=\"data row4 col2\" >Africa</td>\n",
              "                        <td id=\"T_c31e4c20_988c_11ea_bdb4_0242ac1c0002row4_col3\" class=\"data row4 col3\" >Frederick Chiluba</td>\n",
              "                        <td id=\"T_c31e4c20_988c_11ea_bdb4_0242ac1c0002row4_col4\" class=\"data row4 col4\" >Non-democracy</td>\n",
              "                        <td id=\"T_c31e4c20_988c_11ea_bdb4_0242ac1c0002row4_col5\" class=\"data row4 col5\" >Civilian Dict</td>\n",
              "                        <td id=\"T_c31e4c20_988c_11ea_bdb4_0242ac1c0002row4_col6\" class=\"data row4 col6\" >1991</td>\n",
              "                        <td id=\"T_c31e4c20_988c_11ea_bdb4_0242ac1c0002row4_col7\" class=\"data row4 col7\" >11</td>\n",
              "                        <td id=\"T_c31e4c20_988c_11ea_bdb4_0242ac1c0002row4_col8\" class=\"data row4 col8\" >1</td>\n",
              "            </tr>\n",
              "            <tr>\n",
              "                                <td id=\"T_c31e4c20_988c_11ea_bdb4_0242ac1c0002row5_col0\" class=\"data row5 col0\" >Zambia</td>\n",
              "                        <td id=\"T_c31e4c20_988c_11ea_bdb4_0242ac1c0002row5_col1\" class=\"data row5 col1\" >Eastern Africa</td>\n",
              "                        <td id=\"T_c31e4c20_988c_11ea_bdb4_0242ac1c0002row5_col2\" class=\"data row5 col2\" >Africa</td>\n",
              "                        <td id=\"T_c31e4c20_988c_11ea_bdb4_0242ac1c0002row5_col3\" class=\"data row5 col3\" >Levy Patrick Mwanawasa</td>\n",
              "                        <td id=\"T_c31e4c20_988c_11ea_bdb4_0242ac1c0002row5_col4\" class=\"data row5 col4\" >Non-democracy</td>\n",
              "                        <td id=\"T_c31e4c20_988c_11ea_bdb4_0242ac1c0002row5_col5\" class=\"data row5 col5\" >Civilian Dict</td>\n",
              "                        <td id=\"T_c31e4c20_988c_11ea_bdb4_0242ac1c0002row5_col6\" class=\"data row5 col6\" >2002</td>\n",
              "                        <td id=\"T_c31e4c20_988c_11ea_bdb4_0242ac1c0002row5_col7\" class=\"data row5 col7\" >6</td>\n",
              "                        <td id=\"T_c31e4c20_988c_11ea_bdb4_0242ac1c0002row5_col8\" class=\"data row5 col8\" >1</td>\n",
              "            </tr>\n",
              "            <tr>\n",
              "                                <td id=\"T_c31e4c20_988c_11ea_bdb4_0242ac1c0002row6_col0\" class=\"data row6 col0\" >Zambia</td>\n",
              "                        <td id=\"T_c31e4c20_988c_11ea_bdb4_0242ac1c0002row6_col1\" class=\"data row6 col1\" >Eastern Africa</td>\n",
              "                        <td id=\"T_c31e4c20_988c_11ea_bdb4_0242ac1c0002row6_col2\" class=\"data row6 col2\" >Africa</td>\n",
              "                        <td id=\"T_c31e4c20_988c_11ea_bdb4_0242ac1c0002row6_col3\" class=\"data row6 col3\" >Rupiah Bwezani Banda</td>\n",
              "                        <td id=\"T_c31e4c20_988c_11ea_bdb4_0242ac1c0002row6_col4\" class=\"data row6 col4\" >Non-democracy</td>\n",
              "                        <td id=\"T_c31e4c20_988c_11ea_bdb4_0242ac1c0002row6_col5\" class=\"data row6 col5\" >Civilian Dict</td>\n",
              "                        <td id=\"T_c31e4c20_988c_11ea_bdb4_0242ac1c0002row6_col6\" class=\"data row6 col6\" >2008</td>\n",
              "                        <td id=\"T_c31e4c20_988c_11ea_bdb4_0242ac1c0002row6_col7\" class=\"data row6 col7\" >1</td>\n",
              "                        <td id=\"T_c31e4c20_988c_11ea_bdb4_0242ac1c0002row6_col8\" class=\"data row6 col8\" >0</td>\n",
              "            </tr>\n",
              "            <tr>\n",
              "                                <td id=\"T_c31e4c20_988c_11ea_bdb4_0242ac1c0002row7_col0\" class=\"data row7 col0\" >Zimbabwe</td>\n",
              "                        <td id=\"T_c31e4c20_988c_11ea_bdb4_0242ac1c0002row7_col1\" class=\"data row7 col1\" >Eastern Africa</td>\n",
              "                        <td id=\"T_c31e4c20_988c_11ea_bdb4_0242ac1c0002row7_col2\" class=\"data row7 col2\" >Africa</td>\n",
              "                        <td id=\"T_c31e4c20_988c_11ea_bdb4_0242ac1c0002row7_col3\" class=\"data row7 col3\" >Ian Smith</td>\n",
              "                        <td id=\"T_c31e4c20_988c_11ea_bdb4_0242ac1c0002row7_col4\" class=\"data row7 col4\" >Non-democracy</td>\n",
              "                        <td id=\"T_c31e4c20_988c_11ea_bdb4_0242ac1c0002row7_col5\" class=\"data row7 col5\" >Civilian Dict</td>\n",
              "                        <td id=\"T_c31e4c20_988c_11ea_bdb4_0242ac1c0002row7_col6\" class=\"data row7 col6\" >1965</td>\n",
              "                        <td id=\"T_c31e4c20_988c_11ea_bdb4_0242ac1c0002row7_col7\" class=\"data row7 col7\" >14</td>\n",
              "                        <td id=\"T_c31e4c20_988c_11ea_bdb4_0242ac1c0002row7_col8\" class=\"data row7 col8\" >1</td>\n",
              "            </tr>\n",
              "            <tr>\n",
              "                                <td id=\"T_c31e4c20_988c_11ea_bdb4_0242ac1c0002row8_col0\" class=\"data row8 col0\" >Zimbabwe</td>\n",
              "                        <td id=\"T_c31e4c20_988c_11ea_bdb4_0242ac1c0002row8_col1\" class=\"data row8 col1\" >Eastern Africa</td>\n",
              "                        <td id=\"T_c31e4c20_988c_11ea_bdb4_0242ac1c0002row8_col2\" class=\"data row8 col2\" >Africa</td>\n",
              "                        <td id=\"T_c31e4c20_988c_11ea_bdb4_0242ac1c0002row8_col3\" class=\"data row8 col3\" >Abel Muzorewa</td>\n",
              "                        <td id=\"T_c31e4c20_988c_11ea_bdb4_0242ac1c0002row8_col4\" class=\"data row8 col4\" >Non-democracy</td>\n",
              "                        <td id=\"T_c31e4c20_988c_11ea_bdb4_0242ac1c0002row8_col5\" class=\"data row8 col5\" >Civilian Dict</td>\n",
              "                        <td id=\"T_c31e4c20_988c_11ea_bdb4_0242ac1c0002row8_col6\" class=\"data row8 col6\" >1979</td>\n",
              "                        <td id=\"T_c31e4c20_988c_11ea_bdb4_0242ac1c0002row8_col7\" class=\"data row8 col7\" >1</td>\n",
              "                        <td id=\"T_c31e4c20_988c_11ea_bdb4_0242ac1c0002row8_col8\" class=\"data row8 col8\" >1</td>\n",
              "            </tr>\n",
              "            <tr>\n",
              "                                <td id=\"T_c31e4c20_988c_11ea_bdb4_0242ac1c0002row9_col0\" class=\"data row9 col0\" >Zimbabwe</td>\n",
              "                        <td id=\"T_c31e4c20_988c_11ea_bdb4_0242ac1c0002row9_col1\" class=\"data row9 col1\" >Eastern Africa</td>\n",
              "                        <td id=\"T_c31e4c20_988c_11ea_bdb4_0242ac1c0002row9_col2\" class=\"data row9 col2\" >Africa</td>\n",
              "                        <td id=\"T_c31e4c20_988c_11ea_bdb4_0242ac1c0002row9_col3\" class=\"data row9 col3\" >Robert Mugabe</td>\n",
              "                        <td id=\"T_c31e4c20_988c_11ea_bdb4_0242ac1c0002row9_col4\" class=\"data row9 col4\" >Non-democracy</td>\n",
              "                        <td id=\"T_c31e4c20_988c_11ea_bdb4_0242ac1c0002row9_col5\" class=\"data row9 col5\" >Civilian Dict</td>\n",
              "                        <td id=\"T_c31e4c20_988c_11ea_bdb4_0242ac1c0002row9_col6\" class=\"data row9 col6\" >1980</td>\n",
              "                        <td id=\"T_c31e4c20_988c_11ea_bdb4_0242ac1c0002row9_col7\" class=\"data row9 col7\" >29</td>\n",
              "                        <td id=\"T_c31e4c20_988c_11ea_bdb4_0242ac1c0002row9_col8\" class=\"data row9 col8\" >0</td>\n",
              "            </tr>\n",
              "    </tbody></table>"
            ],
            "text/plain": [
              "<pandas.io.formats.style.Styler at 0x7f026f984e80>"
            ]
          },
          "metadata": {
            "tags": []
          },
          "execution_count": 4
        }
      ]
    },
    {
      "cell_type": "markdown",
      "metadata": {
        "id": "-o57OZxvuTvu",
        "colab_type": "text"
      },
      "source": [
        "Let's look at right-censored samples."
      ]
    },
    {
      "cell_type": "code",
      "metadata": {
        "ExecuteTime": {
          "end_time": "2020-01-09T22:37:12.185066Z",
          "start_time": "2020-01-09T22:37:10.519270Z"
        },
        "scrolled": false,
        "id": "vzaXN9QWuTvv",
        "colab_type": "code",
        "colab": {
          "base_uri": "https://localhost:8080/",
          "height": 275
        },
        "outputId": "f766dee2-e8ff-4f7e-9aa1-979bde731d88"
      },
      "source": [
        "format_dict = {'ehead':'{}','duration':'{}', 'observed':'{}'}\n",
        "(df.query('ctryname == \"United States of America\"')[['ehead', 'duration', 'observed']].style.format(format_dict)\n",
        "  .hide_index()\n",
        "  .highlight_min('observed', color='lightgreen'))"
      ],
      "execution_count": 5,
      "outputs": [
        {
          "output_type": "execute_result",
          "data": {
            "text/html": [
              "<style  type=\"text/css\" >\n",
              "    #T_c326be78_988c_11ea_bdb4_0242ac1c0002row2_col2 {\n",
              "            background-color:  lightgreen;\n",
              "        }    #T_c326be78_988c_11ea_bdb4_0242ac1c0002row10_col2 {\n",
              "            background-color:  lightgreen;\n",
              "        }</style><table id=\"T_c326be78_988c_11ea_bdb4_0242ac1c0002\" ><thead>    <tr>        <th class=\"col_heading level0 col0\" >ehead</th>        <th class=\"col_heading level0 col1\" >duration</th>        <th class=\"col_heading level0 col2\" >observed</th>    </tr></thead><tbody>\n",
              "                <tr>\n",
              "                                <td id=\"T_c326be78_988c_11ea_bdb4_0242ac1c0002row0_col0\" class=\"data row0 col0\" >Harry Truman</td>\n",
              "                        <td id=\"T_c326be78_988c_11ea_bdb4_0242ac1c0002row0_col1\" class=\"data row0 col1\" >7</td>\n",
              "                        <td id=\"T_c326be78_988c_11ea_bdb4_0242ac1c0002row0_col2\" class=\"data row0 col2\" >1</td>\n",
              "            </tr>\n",
              "            <tr>\n",
              "                                <td id=\"T_c326be78_988c_11ea_bdb4_0242ac1c0002row1_col0\" class=\"data row1 col0\" >Dwight D. Eisenhower</td>\n",
              "                        <td id=\"T_c326be78_988c_11ea_bdb4_0242ac1c0002row1_col1\" class=\"data row1 col1\" >8</td>\n",
              "                        <td id=\"T_c326be78_988c_11ea_bdb4_0242ac1c0002row1_col2\" class=\"data row1 col2\" >1</td>\n",
              "            </tr>\n",
              "            <tr>\n",
              "                                <td id=\"T_c326be78_988c_11ea_bdb4_0242ac1c0002row2_col0\" class=\"data row2 col0\" >John Kennedy</td>\n",
              "                        <td id=\"T_c326be78_988c_11ea_bdb4_0242ac1c0002row2_col1\" class=\"data row2 col1\" >2</td>\n",
              "                        <td id=\"T_c326be78_988c_11ea_bdb4_0242ac1c0002row2_col2\" class=\"data row2 col2\" >0</td>\n",
              "            </tr>\n",
              "            <tr>\n",
              "                                <td id=\"T_c326be78_988c_11ea_bdb4_0242ac1c0002row3_col0\" class=\"data row3 col0\" >Lyndon Johnson</td>\n",
              "                        <td id=\"T_c326be78_988c_11ea_bdb4_0242ac1c0002row3_col1\" class=\"data row3 col1\" >6</td>\n",
              "                        <td id=\"T_c326be78_988c_11ea_bdb4_0242ac1c0002row3_col2\" class=\"data row3 col2\" >1</td>\n",
              "            </tr>\n",
              "            <tr>\n",
              "                                <td id=\"T_c326be78_988c_11ea_bdb4_0242ac1c0002row4_col0\" class=\"data row4 col0\" >Richard Nixon</td>\n",
              "                        <td id=\"T_c326be78_988c_11ea_bdb4_0242ac1c0002row4_col1\" class=\"data row4 col1\" >5</td>\n",
              "                        <td id=\"T_c326be78_988c_11ea_bdb4_0242ac1c0002row4_col2\" class=\"data row4 col2\" >1</td>\n",
              "            </tr>\n",
              "            <tr>\n",
              "                                <td id=\"T_c326be78_988c_11ea_bdb4_0242ac1c0002row5_col0\" class=\"data row5 col0\" >Gerald Ford</td>\n",
              "                        <td id=\"T_c326be78_988c_11ea_bdb4_0242ac1c0002row5_col1\" class=\"data row5 col1\" >3</td>\n",
              "                        <td id=\"T_c326be78_988c_11ea_bdb4_0242ac1c0002row5_col2\" class=\"data row5 col2\" >1</td>\n",
              "            </tr>\n",
              "            <tr>\n",
              "                                <td id=\"T_c326be78_988c_11ea_bdb4_0242ac1c0002row6_col0\" class=\"data row6 col0\" >Jimmy Carter</td>\n",
              "                        <td id=\"T_c326be78_988c_11ea_bdb4_0242ac1c0002row6_col1\" class=\"data row6 col1\" >4</td>\n",
              "                        <td id=\"T_c326be78_988c_11ea_bdb4_0242ac1c0002row6_col2\" class=\"data row6 col2\" >1</td>\n",
              "            </tr>\n",
              "            <tr>\n",
              "                                <td id=\"T_c326be78_988c_11ea_bdb4_0242ac1c0002row7_col0\" class=\"data row7 col0\" >Ronald Reagan</td>\n",
              "                        <td id=\"T_c326be78_988c_11ea_bdb4_0242ac1c0002row7_col1\" class=\"data row7 col1\" >8</td>\n",
              "                        <td id=\"T_c326be78_988c_11ea_bdb4_0242ac1c0002row7_col2\" class=\"data row7 col2\" >1</td>\n",
              "            </tr>\n",
              "            <tr>\n",
              "                                <td id=\"T_c326be78_988c_11ea_bdb4_0242ac1c0002row8_col0\" class=\"data row8 col0\" >George Bush</td>\n",
              "                        <td id=\"T_c326be78_988c_11ea_bdb4_0242ac1c0002row8_col1\" class=\"data row8 col1\" >4</td>\n",
              "                        <td id=\"T_c326be78_988c_11ea_bdb4_0242ac1c0002row8_col2\" class=\"data row8 col2\" >1</td>\n",
              "            </tr>\n",
              "            <tr>\n",
              "                                <td id=\"T_c326be78_988c_11ea_bdb4_0242ac1c0002row9_col0\" class=\"data row9 col0\" >Bill Clinton</td>\n",
              "                        <td id=\"T_c326be78_988c_11ea_bdb4_0242ac1c0002row9_col1\" class=\"data row9 col1\" >8</td>\n",
              "                        <td id=\"T_c326be78_988c_11ea_bdb4_0242ac1c0002row9_col2\" class=\"data row9 col2\" >1</td>\n",
              "            </tr>\n",
              "            <tr>\n",
              "                                <td id=\"T_c326be78_988c_11ea_bdb4_0242ac1c0002row10_col0\" class=\"data row10 col0\" >George W. Bush</td>\n",
              "                        <td id=\"T_c326be78_988c_11ea_bdb4_0242ac1c0002row10_col1\" class=\"data row10 col1\" >8</td>\n",
              "                        <td id=\"T_c326be78_988c_11ea_bdb4_0242ac1c0002row10_col2\" class=\"data row10 col2\" >0</td>\n",
              "            </tr>\n",
              "    </tbody></table>"
            ],
            "text/plain": [
              "<pandas.io.formats.style.Styler at 0x7f026f984ef0>"
            ]
          },
          "metadata": {
            "tags": []
          },
          "execution_count": 5
        }
      ]
    },
    {
      "cell_type": "code",
      "metadata": {
        "ExecuteTime": {
          "end_time": "2020-01-09T22:37:12.216114Z",
          "start_time": "2020-01-09T22:37:12.189453Z"
        },
        "id": "AVHDxLziuTv2",
        "colab_type": "code",
        "colab": {
          "base_uri": "https://localhost:8080/",
          "height": 88
        },
        "outputId": "0c8da18d-b4b7-4209-bc91-1b912c06efec"
      },
      "source": [
        "print(f'samples: {len(df)}\\n')\n",
        "print(f'right censored samples: {len(df.query(\"observed == 0\"))}')\n",
        "print(f'right censored samples (%): {100*len(df.query(\"observed == 0\"))/len(df):.1f}%')"
      ],
      "execution_count": 6,
      "outputs": [
        {
          "output_type": "stream",
          "text": [
            "samples: 1808\n",
            "\n",
            "right censored samples: 340\n",
            "right censored samples (%): 18.8%\n"
          ],
          "name": "stdout"
        }
      ]
    },
    {
      "cell_type": "markdown",
      "metadata": {
        "id": "3v0OGKU_uTv9",
        "colab_type": "text"
      },
      "source": [
        "# How can we estimate the probability of a government survival?"
      ]
    },
    {
      "cell_type": "markdown",
      "metadata": {
        "id": "J0UzmdpeuTv9",
        "colab_type": "text"
      },
      "source": [
        "**Example:** I want to estimate the survival function of a new machine and I have 100 of these new machines. After the first year:\n",
        "\n",
        "Samples | I \n",
        "--- | --- \n",
        "Initial numbers | 100 \n",
        "Deaths in first year of age | 70 \n",
        "One-year survivors | `30` \n",
        "\n",
        "Therefore, a reasonable estimate of the survival probability of 1 year is 0.3.\n",
        "\n",
        "I have increased my production. So now I have 1000 new machines.\n",
        "\n",
        "Samples | I | II\n",
        "--- | --- | ---\n",
        "Initial numbers | 100 | 1000\n",
        "Deaths in first year of age | 70 | 750\n",
        "One-year survivors | `30` | `250`\n",
        "Deaths in second year of age | 15 | \n",
        "Two-year survivors | `15` | \n",
        "\n",
        "What would be a good estimate of the survival probability of 1 year? and 2 years?"
      ]
    },
    {
      "cell_type": "markdown",
      "metadata": {
        "id": "RVevvzzCuTv-",
        "colab_type": "text"
      },
      "source": [
        "The estimate of the probability of survival of 1 year would be \n",
        "$\\hat{P}(1)=(30+250)/(100+1000) \\sim 0.255$"
      ]
    },
    {
      "cell_type": "markdown",
      "metadata": {
        "id": "BlBS5dveuTwA",
        "colab_type": "text"
      },
      "source": [
        "$\\hat{P}(2|1) = 15/30 = 0.5$"
      ]
    },
    {
      "cell_type": "markdown",
      "metadata": {
        "id": "zVja8-P5uTwA",
        "colab_type": "text"
      },
      "source": [
        "$\\hat{P}(2)=0.255\\times0.5=0.127$"
      ]
    },
    {
      "cell_type": "markdown",
      "metadata": {
        "id": "pG5yhITUuTwB",
        "colab_type": "text"
      },
      "source": [
        "# Kaplan-Meier estimator"
      ]
    },
    {
      "cell_type": "markdown",
      "metadata": {
        "id": "E6hn2l6PuTwC",
        "colab_type": "text"
      },
      "source": [
        "**Definition:** Kaplan-Meier estimator of the survival function is given by\n",
        "\n",
        "$$\n",
        "\\hat{S}(t):=\\prod_{i:t_i\\le t}\\left(1-\\frac{d_i}{n_i}\\right)\n",
        "$$\n",
        "where $t_i$ is a time where at least one event happened, $d_i$ the number of events that happened at time $t_i$, and $n_i$ the individuals known to have survived up to time $t_i$."
      ]
    },
    {
      "cell_type": "markdown",
      "metadata": {
        "id": "cojEUEjsuTwD",
        "colab_type": "text"
      },
      "source": [
        "We use the [Kaplan-Meier estimator](https://en.wikipedia.org/wiki/Kaplan?Meier_estimator) to estimate the probability of a government survival."
      ]
    },
    {
      "cell_type": "code",
      "metadata": {
        "ExecuteTime": {
          "end_time": "2020-01-09T22:37:16.155051Z",
          "start_time": "2020-01-09T22:37:12.219801Z"
        },
        "scrolled": false,
        "id": "LCGcjoexuTwE",
        "colab_type": "code",
        "colab": {
          "base_uri": "https://localhost:8080/",
          "height": 457
        },
        "outputId": "046e60ab-c148-4d0e-f305-036bc3a43720"
      },
      "source": [
        "from lifelines import KaplanMeierFitter\n",
        "kmf = KaplanMeierFitter()\n",
        "kmf.fit(df['duration'],df['observed'], label='Estimate for average government')\n",
        "\n",
        "fig, ax = plt.subplots(figsize=(10,7))\n",
        "kmf.plot(ax=ax)\n",
        "plt.title('Estimated probability of government survival vs number of years')\n",
        "plt.xlabel('Time (in years)')\n",
        "plt.ylabel('Estimated probability of government survival')\n",
        "plt.show()"
      ],
      "execution_count": 7,
      "outputs": [
        {
          "output_type": "display_data",
          "data": {
            "image/png": "[encoded data removed]",
            "text/plain": [
              "<Figure size 720x504 with 1 Axes>"
            ]
          },
          "metadata": {
            "tags": []
          }
        }
      ]
    },
    {
      "cell_type": "code",
      "metadata": {
        "id": "pdrG0N6nuTwL",
        "colab_type": "code",
        "colab": {
          "base_uri": "https://localhost:8080/",
          "height": 35
        },
        "outputId": "9e7ce2ba-3dd0-415d-bae8-586e8d98f7c1"
      },
      "source": [
        "print(f'The median number of years of government survival is {kmf.median_survival_time_}')"
      ],
      "execution_count": 8,
      "outputs": [
        {
          "output_type": "stream",
          "text": [
            "The median number of years of government survival is 4.0\n"
          ],
          "name": "stdout"
        }
      ]
    },
    {
      "cell_type": "code",
      "metadata": {
        "scrolled": false,
        "id": "NQHPG2x6uTwQ",
        "colab_type": "code",
        "colab": {
          "base_uri": "https://localhost:8080/",
          "height": 457
        },
        "outputId": "91b8e9dd-14f4-4883-c9d5-d974dbefbe37"
      },
      "source": [
        "fig, ax = plt.subplots(figsize=(10,7))\n",
        "for r in df['democracy'].unique():\n",
        "    ix = df['democracy'] == r\n",
        "    kmf.fit(df['duration'].loc[ix], df['observed'].loc[ix], label=r)\n",
        "    kmf.plot(ax=ax)\n",
        "plt.title('Estimated probability of government survival vs number of years')\n",
        "plt.xlabel('Time (in years)')\n",
        "plt.ylabel('Estimated probability of government survival')\n",
        "plt.show()"
      ],
      "execution_count": 9,
      "outputs": [
        {
          "output_type": "display_data",
          "data": {
            "image/png": "[encoded data removed]",
            "text/plain": [
              "<Figure size 720x504 with 1 Axes>"
            ]
          },
          "metadata": {
            "tags": []
          }
        }
      ]
    },
    {
      "cell_type": "code",
      "metadata": {
        "id": "PBKPtOFKuTwV",
        "colab_type": "code",
        "colab": {
          "base_uri": "https://localhost:8080/",
          "height": 52
        },
        "outputId": "ac320f84-eaf4-40ee-9109-aa1536b736c6"
      },
      "source": [
        "for r in df['democracy'].unique():\n",
        "    ix = df['democracy'] == r\n",
        "    kmf.fit(df['duration'].loc[ix], df['observed'].loc[ix], label=r)\n",
        "    print(f'The median number of years for a {r} is {kmf.median_survival_time_}')"
      ],
      "execution_count": 10,
      "outputs": [
        {
          "output_type": "stream",
          "text": [
            "The median number of years for a Non-democracy is 6.0\n",
            "The median number of years for a Democracy is 3.0\n"
          ],
          "name": "stdout"
        }
      ]
    },
    {
      "cell_type": "markdown",
      "metadata": {
        "id": "ZhK-X5-fuTwc",
        "colab_type": "text"
      },
      "source": [
        "How can we tell if these survival functions are different?"
      ]
    },
    {
      "cell_type": "markdown",
      "metadata": {
        "id": "uL59D8GAuTwc",
        "colab_type": "text"
      },
      "source": [
        "# Log-rank test (not recommended but still very common statistical test)"
      ]
    },
    {
      "cell_type": "code",
      "metadata": {
        "scrolled": false,
        "id": "LDq8D5ovuTwe",
        "colab_type": "code",
        "colab": {
          "base_uri": "https://localhost:8080/",
          "height": 35
        },
        "outputId": "decbabb6-fa40-4f2c-fad7-3d53ffe95feb"
      },
      "source": [
        "df['democracy'].unique()"
      ],
      "execution_count": 11,
      "outputs": [
        {
          "output_type": "execute_result",
          "data": {
            "text/plain": [
              "array(['Non-democracy', 'Democracy'], dtype=object)"
            ]
          },
          "metadata": {
            "tags": []
          },
          "execution_count": 11
        }
      ]
    },
    {
      "cell_type": "code",
      "metadata": {
        "id": "kaRMHNtSuTwi",
        "colab_type": "code",
        "colab": {}
      },
      "source": [
        "from lifelines.statistics import logrank_test"
      ],
      "execution_count": 0,
      "outputs": []
    },
    {
      "cell_type": "code",
      "metadata": {
        "id": "1qrrTDDWuTwn",
        "colab_type": "code",
        "colab": {}
      },
      "source": [
        "ix = df['democracy'] == 'Democracy'\n",
        "T_democracy, E_democracy = df.loc[ix, 'duration'], df.loc[ix, 'observed']\n",
        "T_non_democracy, E_non_democracy = df.loc[~ix, 'duration'], df.loc[~ix, 'observed']"
      ],
      "execution_count": 0,
      "outputs": []
    },
    {
      "cell_type": "code",
      "metadata": {
        "scrolled": true,
        "id": "Qw20wiiRuTws",
        "colab_type": "code",
        "colab": {
          "base_uri": "https://localhost:8080/",
          "height": 206
        },
        "outputId": "ac2c6e66-23ff-455e-c1f2-911abc405bc6"
      },
      "source": [
        "results = logrank_test(T_democracy, T_non_democracy, event_observed_A=E_democracy, event_observed_B=E_non_democracy)\n",
        "results.print_summary()"
      ],
      "execution_count": 14,
      "outputs": [
        {
          "output_type": "display_data",
          "data": {
            "text/html": [
              "<div>\n",
              "<style scoped>\n",
              "    .dataframe tbody tr th:only-of-type {\n",
              "        vertical-align: middle;\n",
              "    }\n",
              "\n",
              "    .dataframe tbody tr th {\n",
              "        vertical-align: top;\n",
              "    }\n",
              "\n",
              "    .dataframe thead th {\n",
              "        text-align: right;\n",
              "    }\n",
              "</style>\n",
              "<table border=\"1\" class=\"dataframe\">\n",
              "  <tbody>\n",
              "    <tr>\n",
              "      <th>t_0</th>\n",
              "      <td>-1</td>\n",
              "    </tr>\n",
              "    <tr>\n",
              "      <th>null_distribution</th>\n",
              "      <td>chi squared</td>\n",
              "    </tr>\n",
              "    <tr>\n",
              "      <th>degrees_of_freedom</th>\n",
              "      <td>1</td>\n",
              "    </tr>\n",
              "    <tr>\n",
              "      <th>test_name</th>\n",
              "      <td>logrank_test</td>\n",
              "    </tr>\n",
              "  </tbody>\n",
              "</table>\n",
              "</div><table border=\"1\" class=\"dataframe\">\n",
              "  <thead>\n",
              "    <tr style=\"text-align: right;\">\n",
              "      <th></th>\n",
              "      <th>test_statistic</th>\n",
              "      <th>p</th>\n",
              "    </tr>\n",
              "  </thead>\n",
              "  <tbody>\n",
              "    <tr>\n",
              "      <th>0</th>\n",
              "      <td>260.47</td>\n",
              "      <td>&lt;0.005</td>\n",
              "    </tr>\n",
              "  </tbody>\n",
              "</table>"
            ],
            "text/plain": [
              "<IPython.core.display.HTML object>"
            ]
          },
          "metadata": {
            "tags": []
          }
        }
      ]
    },
    {
      "cell_type": "code",
      "metadata": {
        "id": "1Oms68oOuTww",
        "colab_type": "code",
        "colab": {
          "base_uri": "https://localhost:8080/",
          "height": 52
        },
        "outputId": "c7bfbd67-bf2e-4442-b97f-0674518fab45"
      },
      "source": [
        "print(results.p_value)\n",
        "print(results.test_statistic)"
      ],
      "execution_count": 15,
      "outputs": [
        {
          "output_type": "stream",
          "text": [
            "1.3557143218483999e-58\n",
            "260.4695390779592\n"
          ],
          "name": "stdout"
        }
      ]
    },
    {
      "cell_type": "markdown",
      "metadata": {
        "id": "qTX47C6-uTw1",
        "colab_type": "text"
      },
      "source": [
        "# Univariate Cox regression"
      ]
    },
    {
      "cell_type": "code",
      "metadata": {
        "id": "meyGKaYcuTw4",
        "colab_type": "code",
        "colab": {
          "base_uri": "https://localhost:8080/",
          "height": 457
        },
        "outputId": "59f61176-642a-433f-80cb-7e684f58de7d"
      },
      "source": [
        "from lifelines import CoxPHFitter\n",
        "\n",
        "cph = CoxPHFitter()\n",
        "df_Uni_Cox = df.copy()\n",
        "df_Uni_Cox['indicator'] = df_Uni_Cox['democracy'] == 'Democracy'\n",
        "cph.fit(df_Uni_Cox[['indicator', 'duration', 'observed']], 'duration', 'observed')\n",
        "cph.print_summary()"
      ],
      "execution_count": 16,
      "outputs": [
        {
          "output_type": "display_data",
          "data": {
            "text/html": [
              "<div>\n",
              "<style scoped>\n",
              "    .dataframe tbody tr th:only-of-type {\n",
              "        vertical-align: middle;\n",
              "    }\n",
              "\n",
              "    .dataframe tbody tr th {\n",
              "        vertical-align: top;\n",
              "    }\n",
              "\n",
              "    .dataframe thead th {\n",
              "        text-align: right;\n",
              "    }\n",
              "</style>\n",
              "<table border=\"1\" class=\"dataframe\">\n",
              "  <tbody>\n",
              "    <tr>\n",
              "      <th>model</th>\n",
              "      <td>lifelines.CoxPHFitter</td>\n",
              "    </tr>\n",
              "    <tr>\n",
              "      <th>duration col</th>\n",
              "      <td>'duration'</td>\n",
              "    </tr>\n",
              "    <tr>\n",
              "      <th>event col</th>\n",
              "      <td>'observed'</td>\n",
              "    </tr>\n",
              "    <tr>\n",
              "      <th>baseline estimation</th>\n",
              "      <td>breslow</td>\n",
              "    </tr>\n",
              "    <tr>\n",
              "      <th>number of observations</th>\n",
              "      <td>1808</td>\n",
              "    </tr>\n",
              "    <tr>\n",
              "      <th>number of events observed</th>\n",
              "      <td>1468</td>\n",
              "    </tr>\n",
              "    <tr>\n",
              "      <th>partial log-likelihood</th>\n",
              "      <td>-9614.27</td>\n",
              "    </tr>\n",
              "    <tr>\n",
              "      <th>time fit was run</th>\n",
              "      <td>2020-05-17 22:21:33 UTC</td>\n",
              "    </tr>\n",
              "  </tbody>\n",
              "</table>\n",
              "</div><table border=\"1\" class=\"dataframe\">\n",
              "  <thead>\n",
              "    <tr style=\"text-align: right;\">\n",
              "      <th></th>\n",
              "      <th>coef</th>\n",
              "      <th>exp(coef)</th>\n",
              "      <th>se(coef)</th>\n",
              "      <th>coef lower 95%</th>\n",
              "      <th>coef upper 95%</th>\n",
              "      <th>exp(coef) lower 95%</th>\n",
              "      <th>exp(coef) upper 95%</th>\n",
              "      <th>z</th>\n",
              "      <th>p</th>\n",
              "      <th>-log2(p)</th>\n",
              "    </tr>\n",
              "  </thead>\n",
              "  <tbody>\n",
              "    <tr>\n",
              "      <th>indicator</th>\n",
              "      <td>0.96</td>\n",
              "      <td>2.62</td>\n",
              "      <td>0.06</td>\n",
              "      <td>0.84</td>\n",
              "      <td>1.09</td>\n",
              "      <td>2.32</td>\n",
              "      <td>2.96</td>\n",
              "      <td>15.40</td>\n",
              "      <td>&lt;0.005</td>\n",
              "      <td>175.43</td>\n",
              "    </tr>\n",
              "  </tbody>\n",
              "</table><div>\n",
              "<style scoped>\n",
              "    .dataframe tbody tr th:only-of-type {\n",
              "        vertical-align: middle;\n",
              "    }\n",
              "\n",
              "    .dataframe tbody tr th {\n",
              "        vertical-align: top;\n",
              "    }\n",
              "\n",
              "    .dataframe thead th {\n",
              "        text-align: right;\n",
              "    }\n",
              "</style>\n",
              "<table border=\"1\" class=\"dataframe\">\n",
              "  <tbody>\n",
              "    <tr>\n",
              "      <th>Concordance</th>\n",
              "      <td>0.59</td>\n",
              "    </tr>\n",
              "    <tr>\n",
              "      <th>Partial AIC</th>\n",
              "      <td>19230.53</td>\n",
              "    </tr>\n",
              "    <tr>\n",
              "      <th>log-likelihood ratio test</th>\n",
              "      <td>264.03 on 1 df</td>\n",
              "    </tr>\n",
              "    <tr>\n",
              "      <th>-log2(p) of ll-ratio test</th>\n",
              "      <td>194.81</td>\n",
              "    </tr>\n",
              "  </tbody>\n",
              "</table>\n",
              "</div>"
            ],
            "text/plain": [
              "<IPython.core.display.HTML object>"
            ]
          },
          "metadata": {
            "tags": []
          }
        }
      ]
    },
    {
      "cell_type": "code",
      "metadata": {
        "ExecuteTime": {
          "end_time": "2020-01-09T22:37:17.131185Z",
          "start_time": "2020-01-09T22:37:16.573714Z"
        },
        "id": "USPOd2fOuTw8",
        "colab_type": "code",
        "colab": {
          "base_uri": "https://localhost:8080/",
          "height": 457
        },
        "outputId": "f88e439c-847c-44f4-fdd1-9a2491ab0098"
      },
      "source": [
        "fig, ax = plt.subplots(figsize=(10,7))\n",
        "\n",
        "for r in df['regime'].unique():\n",
        "    ix = df['regime'] == r\n",
        "    kmf.fit(df['duration'].loc[ix], df['observed'].loc[ix], label=r)\n",
        "    kmf.survival_function_.plot(ax=ax)\n",
        "plt.title('Estimated probability of government survival vs number of years')\n",
        "plt.xlabel('Time (in years)')\n",
        "plt.ylabel('Estimated probability of government survival')\n",
        "plt.show()"
      ],
      "execution_count": 17,
      "outputs": [
        {
          "output_type": "display_data",
          "data": {
            "image/png": "[encoded data removed]",
            "text/plain": [
              "<Figure size 720x504 with 1 Axes>"
            ]
          },
          "metadata": {
            "tags": []
          }
        }
      ]
    },
    {
      "cell_type": "code",
      "metadata": {
        "ExecuteTime": {
          "end_time": "2020-01-09T22:37:17.690930Z",
          "start_time": "2020-01-09T22:37:17.134877Z"
        },
        "scrolled": false,
        "id": "ydmaYBqnuTxA",
        "colab_type": "code",
        "colab": {
          "base_uri": "https://localhost:8080/",
          "height": 457
        },
        "outputId": "fc8db75d-783d-4c96-f783-d859479d18b6"
      },
      "source": [
        "fig, ax = plt.subplots(figsize=(10,7))\n",
        "for r in df['un_continent_name'].unique():\n",
        "    ix = df['un_continent_name'] == r\n",
        "    kmf.fit(df['duration'].loc[ix], df['observed'].loc[ix], label=r)\n",
        "    kmf.plot(ax=ax)\n",
        "plt.title('Estimated probability of government survival vs number of years')\n",
        "plt.xlabel('Time (in years)')\n",
        "plt.ylabel('Estimated probability of government survival')\n",
        "plt.show()"
      ],
      "execution_count": 18,
      "outputs": [
        {
          "output_type": "display_data",
          "data": {
            "image/png": "[encoded data removed]",
            "text/plain": [
              "<Figure size 720x504 with 1 Axes>"
            ]
          },
          "metadata": {
            "tags": []
          }
        }
      ]
    },
    {
      "cell_type": "code",
      "metadata": {
        "ExecuteTime": {
          "end_time": "2020-01-09T22:37:17.723699Z",
          "start_time": "2020-01-09T22:37:17.694880Z"
        },
        "scrolled": false,
        "id": "NXIl1sBfuTxF",
        "colab_type": "code",
        "colab": {
          "base_uri": "https://localhost:8080/",
          "height": 143
        },
        "outputId": "d6392560-fd29-476b-effd-fbcde256ff5c"
      },
      "source": [
        "df.query('ctryname == \"United States of America\"').tail(3)"
      ],
      "execution_count": 19,
      "outputs": [
        {
          "output_type": "execute_result",
          "data": {
            "text/html": [
              "<div>\n",
              "<style scoped>\n",
              "    .dataframe tbody tr th:only-of-type {\n",
              "        vertical-align: middle;\n",
              "    }\n",
              "\n",
              "    .dataframe tbody tr th {\n",
              "        vertical-align: top;\n",
              "    }\n",
              "\n",
              "    .dataframe thead th {\n",
              "        text-align: right;\n",
              "    }\n",
              "</style>\n",
              "<table border=\"1\" class=\"dataframe\">\n",
              "  <thead>\n",
              "    <tr style=\"text-align: right;\">\n",
              "      <th></th>\n",
              "      <th>ctryname</th>\n",
              "      <th>un_region_name</th>\n",
              "      <th>un_continent_name</th>\n",
              "      <th>ehead</th>\n",
              "      <th>democracy</th>\n",
              "      <th>regime</th>\n",
              "      <th>start_year</th>\n",
              "      <th>duration</th>\n",
              "      <th>observed</th>\n",
              "    </tr>\n",
              "  </thead>\n",
              "  <tbody>\n",
              "    <tr>\n",
              "      <th>1721</th>\n",
              "      <td>United States of America</td>\n",
              "      <td>Northern America</td>\n",
              "      <td>Americas</td>\n",
              "      <td>George Bush</td>\n",
              "      <td>Democracy</td>\n",
              "      <td>Presidential Dem</td>\n",
              "      <td>1989</td>\n",
              "      <td>4</td>\n",
              "      <td>1</td>\n",
              "    </tr>\n",
              "    <tr>\n",
              "      <th>1722</th>\n",
              "      <td>United States of America</td>\n",
              "      <td>Northern America</td>\n",
              "      <td>Americas</td>\n",
              "      <td>Bill Clinton</td>\n",
              "      <td>Democracy</td>\n",
              "      <td>Presidential Dem</td>\n",
              "      <td>1993</td>\n",
              "      <td>8</td>\n",
              "      <td>1</td>\n",
              "    </tr>\n",
              "    <tr>\n",
              "      <th>1723</th>\n",
              "      <td>United States of America</td>\n",
              "      <td>Northern America</td>\n",
              "      <td>Americas</td>\n",
              "      <td>George W. Bush</td>\n",
              "      <td>Democracy</td>\n",
              "      <td>Presidential Dem</td>\n",
              "      <td>2001</td>\n",
              "      <td>8</td>\n",
              "      <td>0</td>\n",
              "    </tr>\n",
              "  </tbody>\n",
              "</table>\n",
              "</div>"
            ],
            "text/plain": [
              "                      ctryname    un_region_name  ... duration observed\n",
              "1721  United States of America  Northern America  ...        4        1\n",
              "1722  United States of America  Northern America  ...        8        1\n",
              "1723  United States of America  Northern America  ...        8        0\n",
              "\n",
              "[3 rows x 9 columns]"
            ]
          },
          "metadata": {
            "tags": []
          },
          "execution_count": 19
        }
      ]
    },
    {
      "cell_type": "code",
      "metadata": {
        "ExecuteTime": {
          "end_time": "2020-01-09T22:37:17.748036Z",
          "start_time": "2020-01-09T22:37:17.725349Z"
        },
        "scrolled": false,
        "id": "Qzy7VJ_luTxI",
        "colab_type": "code",
        "colab": {
          "base_uri": "https://localhost:8080/",
          "height": 143
        },
        "outputId": "4e1c7496-3440-4247-f31b-2d82e06ae371"
      },
      "source": [
        "df.query('ctryname == \"United Kingdom\"').tail(3)"
      ],
      "execution_count": 20,
      "outputs": [
        {
          "output_type": "execute_result",
          "data": {
            "text/html": [
              "<div>\n",
              "<style scoped>\n",
              "    .dataframe tbody tr th:only-of-type {\n",
              "        vertical-align: middle;\n",
              "    }\n",
              "\n",
              "    .dataframe tbody tr th {\n",
              "        vertical-align: top;\n",
              "    }\n",
              "\n",
              "    .dataframe thead th {\n",
              "        text-align: right;\n",
              "    }\n",
              "</style>\n",
              "<table border=\"1\" class=\"dataframe\">\n",
              "  <thead>\n",
              "    <tr style=\"text-align: right;\">\n",
              "      <th></th>\n",
              "      <th>ctryname</th>\n",
              "      <th>un_region_name</th>\n",
              "      <th>un_continent_name</th>\n",
              "      <th>ehead</th>\n",
              "      <th>democracy</th>\n",
              "      <th>regime</th>\n",
              "      <th>start_year</th>\n",
              "      <th>duration</th>\n",
              "      <th>observed</th>\n",
              "    </tr>\n",
              "  </thead>\n",
              "  <tbody>\n",
              "    <tr>\n",
              "      <th>1710</th>\n",
              "      <td>United Kingdom</td>\n",
              "      <td>Northern Europe</td>\n",
              "      <td>Europe</td>\n",
              "      <td>John Major</td>\n",
              "      <td>Democracy</td>\n",
              "      <td>Parliamentary Dem</td>\n",
              "      <td>1990</td>\n",
              "      <td>7</td>\n",
              "      <td>1</td>\n",
              "    </tr>\n",
              "    <tr>\n",
              "      <th>1711</th>\n",
              "      <td>United Kingdom</td>\n",
              "      <td>Northern Europe</td>\n",
              "      <td>Europe</td>\n",
              "      <td>Tony Blair</td>\n",
              "      <td>Democracy</td>\n",
              "      <td>Parliamentary Dem</td>\n",
              "      <td>1997</td>\n",
              "      <td>10</td>\n",
              "      <td>1</td>\n",
              "    </tr>\n",
              "    <tr>\n",
              "      <th>1712</th>\n",
              "      <td>United Kingdom</td>\n",
              "      <td>Northern Europe</td>\n",
              "      <td>Europe</td>\n",
              "      <td>Gordon Brown</td>\n",
              "      <td>Democracy</td>\n",
              "      <td>Parliamentary Dem</td>\n",
              "      <td>2007</td>\n",
              "      <td>2</td>\n",
              "      <td>0</td>\n",
              "    </tr>\n",
              "  </tbody>\n",
              "</table>\n",
              "</div>"
            ],
            "text/plain": [
              "            ctryname   un_region_name  ... duration observed\n",
              "1710  United Kingdom  Northern Europe  ...        7        1\n",
              "1711  United Kingdom  Northern Europe  ...       10        1\n",
              "1712  United Kingdom  Northern Europe  ...        2        0\n",
              "\n",
              "[3 rows x 9 columns]"
            ]
          },
          "metadata": {
            "tags": []
          },
          "execution_count": 20
        }
      ]
    },
    {
      "cell_type": "code",
      "metadata": {
        "ExecuteTime": {
          "end_time": "2020-01-09T22:37:18.129226Z",
          "start_time": "2020-01-09T22:37:17.749639Z"
        },
        "id": "010659VeuTxM",
        "colab_type": "code",
        "colab": {
          "base_uri": "https://localhost:8080/",
          "height": 457
        },
        "outputId": "8b47c11c-4331-4940-9c9c-65a7ac41a3dc"
      },
      "source": [
        "ix_US = df['ctryname'] == 'United States of America'\n",
        "ix_UK = df['ctryname'] == 'United Kingdom'\n",
        "\n",
        "kmf_US = KaplanMeierFitter()\n",
        "kmf_US.fit(df['duration'].loc[ix_US], df['observed'].loc[ix_US], label='USA')\n",
        "\n",
        "kmf_UK = KaplanMeierFitter()\n",
        "kmf_UK.fit(df['duration'].loc[ix_UK], df['observed'].loc[ix_UK], label='UK')\n",
        "\n",
        "plt.figure(figsize=(10,7))\n",
        "ax = plt.subplot(111)\n",
        "kmf_US.plot(ax=ax)\n",
        "kmf_UK.plot(ax=ax)\n",
        "plt.title('Estimated probability of government survival vs number of years')\n",
        "plt.xlabel('Time (in years)')\n",
        "plt.ylabel('Estimated probability of government survival')\n",
        "plt.show()"
      ],
      "execution_count": 21,
      "outputs": [
        {
          "output_type": "display_data",
          "data": {
            "image/png": "[encoded data removed]",
            "text/plain": [
              "<Figure size 720x504 with 1 Axes>"
            ]
          },
          "metadata": {
            "tags": []
          }
        }
      ]
    },
    {
      "cell_type": "code",
      "metadata": {
        "scrolled": false,
        "id": "nCPi7YY1uTxQ",
        "colab_type": "code",
        "colab": {
          "base_uri": "https://localhost:8080/",
          "height": 70
        },
        "outputId": "20ad8910-01c4-453e-a42f-e199f3b683ae"
      },
      "source": [
        "df.columns"
      ],
      "execution_count": 22,
      "outputs": [
        {
          "output_type": "execute_result",
          "data": {
            "text/plain": [
              "Index(['ctryname', 'un_region_name', 'un_continent_name', 'ehead', 'democracy',\n",
              "       'regime', 'start_year', 'duration', 'observed'],\n",
              "      dtype='object')"
            ]
          },
          "metadata": {
            "tags": []
          },
          "execution_count": 22
        }
      ]
    },
    {
      "cell_type": "code",
      "metadata": {
        "scrolled": true,
        "id": "xphf-zpauTxU",
        "colab_type": "code",
        "colab": {}
      },
      "source": [
        "df = df.drop(columns=['ctryname', 'un_region_name', 'ehead', 'regime', 'start_year'])"
      ],
      "execution_count": 0,
      "outputs": []
    },
    {
      "cell_type": "code",
      "metadata": {
        "id": "NOuRvPJXuTxZ",
        "colab_type": "code",
        "colab": {
          "base_uri": "https://localhost:8080/",
          "height": 35
        },
        "outputId": "0af0151c-dcd4-497d-9da6-00fda4623a7b"
      },
      "source": [
        "df.columns"
      ],
      "execution_count": 24,
      "outputs": [
        {
          "output_type": "execute_result",
          "data": {
            "text/plain": [
              "Index(['un_continent_name', 'democracy', 'duration', 'observed'], dtype='object')"
            ]
          },
          "metadata": {
            "tags": []
          },
          "execution_count": 24
        }
      ]
    },
    {
      "cell_type": "code",
      "metadata": {
        "id": "tzcg35DtuTxd",
        "colab_type": "code",
        "colab": {}
      },
      "source": [
        "# df_hazard = pd.get_dummies(df, drop_first=True, columns=df.columns.drop(['duration', 'observed']))\n",
        "df_hazard = pd.get_dummies(df, columns=df.columns.drop(['duration', 'observed']))"
      ],
      "execution_count": 0,
      "outputs": []
    },
    {
      "cell_type": "code",
      "metadata": {
        "id": "MGxRvM20uTxg",
        "colab_type": "code",
        "colab": {
          "base_uri": "https://localhost:8080/",
          "height": 105
        },
        "outputId": "60a5cd0c-2bf1-4fbc-f1fd-023cef12d40e"
      },
      "source": [
        "df_hazard.columns"
      ],
      "execution_count": 26,
      "outputs": [
        {
          "output_type": "execute_result",
          "data": {
            "text/plain": [
              "Index(['duration', 'observed', 'un_continent_name_Africa',\n",
              "       'un_continent_name_Americas', 'un_continent_name_Asia',\n",
              "       'un_continent_name_Europe', 'un_continent_name_Oceania',\n",
              "       'democracy_Democracy', 'democracy_Non-democracy'],\n",
              "      dtype='object')"
            ]
          },
          "metadata": {
            "tags": []
          },
          "execution_count": 26
        }
      ]
    },
    {
      "cell_type": "code",
      "metadata": {
        "id": "i9b7PSd2uTxl",
        "colab_type": "code",
        "colab": {}
      },
      "source": [
        "df_hazard = df_hazard.drop(columns=['un_continent_name_Americas', 'democracy_Democracy'])"
      ],
      "execution_count": 0,
      "outputs": []
    },
    {
      "cell_type": "code",
      "metadata": {
        "id": "3-O2MTLPuTxo",
        "colab_type": "code",
        "colab": {
          "base_uri": "https://localhost:8080/",
          "height": 88
        },
        "outputId": "ac68b7fe-1855-4c31-a43d-df604c54e60f"
      },
      "source": [
        "df_hazard.columns"
      ],
      "execution_count": 28,
      "outputs": [
        {
          "output_type": "execute_result",
          "data": {
            "text/plain": [
              "Index(['duration', 'observed', 'un_continent_name_Africa',\n",
              "       'un_continent_name_Asia', 'un_continent_name_Europe',\n",
              "       'un_continent_name_Oceania', 'democracy_Non-democracy'],\n",
              "      dtype='object')"
            ]
          },
          "metadata": {
            "tags": []
          },
          "execution_count": 28
        }
      ]
    },
    {
      "cell_type": "markdown",
      "metadata": {
        "id": "VaQCN1ChuTxs",
        "colab_type": "text"
      },
      "source": [
        "# Multivariate Cox regression"
      ]
    },
    {
      "cell_type": "code",
      "metadata": {
        "id": "IUKzqcFvuTxs",
        "colab_type": "code",
        "colab": {
          "base_uri": "https://localhost:8080/",
          "height": 645
        },
        "outputId": "e1f1087f-5e5e-401e-92a0-d8713d2913cc"
      },
      "source": [
        "from lifelines import CoxPHFitter\n",
        "\n",
        "cph = CoxPHFitter(penalizer=0.1)\n",
        "cph.fit(df_hazard, 'duration', 'observed')\n",
        "cph.print_summary()"
      ],
      "execution_count": 29,
      "outputs": [
        {
          "output_type": "display_data",
          "data": {
            "text/html": [
              "<div>\n",
              "<style scoped>\n",
              "    .dataframe tbody tr th:only-of-type {\n",
              "        vertical-align: middle;\n",
              "    }\n",
              "\n",
              "    .dataframe tbody tr th {\n",
              "        vertical-align: top;\n",
              "    }\n",
              "\n",
              "    .dataframe thead th {\n",
              "        text-align: right;\n",
              "    }\n",
              "</style>\n",
              "<table border=\"1\" class=\"dataframe\">\n",
              "  <tbody>\n",
              "    <tr>\n",
              "      <th>model</th>\n",
              "      <td>lifelines.CoxPHFitter</td>\n",
              "    </tr>\n",
              "    <tr>\n",
              "      <th>duration col</th>\n",
              "      <td>'duration'</td>\n",
              "    </tr>\n",
              "    <tr>\n",
              "      <th>event col</th>\n",
              "      <td>'observed'</td>\n",
              "    </tr>\n",
              "    <tr>\n",
              "      <th>penalizer</th>\n",
              "      <td>0.1</td>\n",
              "    </tr>\n",
              "    <tr>\n",
              "      <th>l1 ratio</th>\n",
              "      <td>0</td>\n",
              "    </tr>\n",
              "    <tr>\n",
              "      <th>baseline estimation</th>\n",
              "      <td>breslow</td>\n",
              "    </tr>\n",
              "    <tr>\n",
              "      <th>number of observations</th>\n",
              "      <td>1808</td>\n",
              "    </tr>\n",
              "    <tr>\n",
              "      <th>number of events observed</th>\n",
              "      <td>1468</td>\n",
              "    </tr>\n",
              "    <tr>\n",
              "      <th>partial log-likelihood</th>\n",
              "      <td>-9613.12</td>\n",
              "    </tr>\n",
              "    <tr>\n",
              "      <th>time fit was run</th>\n",
              "      <td>2020-05-17 22:21:34 UTC</td>\n",
              "    </tr>\n",
              "  </tbody>\n",
              "</table>\n",
              "</div><table border=\"1\" class=\"dataframe\">\n",
              "  <thead>\n",
              "    <tr style=\"text-align: right;\">\n",
              "      <th></th>\n",
              "      <th>coef</th>\n",
              "      <th>exp(coef)</th>\n",
              "      <th>se(coef)</th>\n",
              "      <th>coef lower 95%</th>\n",
              "      <th>coef upper 95%</th>\n",
              "      <th>exp(coef) lower 95%</th>\n",
              "      <th>exp(coef) upper 95%</th>\n",
              "      <th>z</th>\n",
              "      <th>p</th>\n",
              "      <th>-log2(p)</th>\n",
              "    </tr>\n",
              "  </thead>\n",
              "  <tbody>\n",
              "    <tr>\n",
              "      <th>un_continent_name_Africa</th>\n",
              "      <td>-0.20</td>\n",
              "      <td>0.82</td>\n",
              "      <td>0.08</td>\n",
              "      <td>-0.36</td>\n",
              "      <td>-0.04</td>\n",
              "      <td>0.70</td>\n",
              "      <td>0.96</td>\n",
              "      <td>-2.48</td>\n",
              "      <td>0.01</td>\n",
              "      <td>6.25</td>\n",
              "    </tr>\n",
              "    <tr>\n",
              "      <th>un_continent_name_Asia</th>\n",
              "      <td>-0.06</td>\n",
              "      <td>0.95</td>\n",
              "      <td>0.07</td>\n",
              "      <td>-0.20</td>\n",
              "      <td>0.09</td>\n",
              "      <td>0.82</td>\n",
              "      <td>1.09</td>\n",
              "      <td>-0.77</td>\n",
              "      <td>0.44</td>\n",
              "      <td>1.19</td>\n",
              "    </tr>\n",
              "    <tr>\n",
              "      <th>un_continent_name_Europe</th>\n",
              "      <td>0.23</td>\n",
              "      <td>1.26</td>\n",
              "      <td>0.06</td>\n",
              "      <td>0.11</td>\n",
              "      <td>0.35</td>\n",
              "      <td>1.12</td>\n",
              "      <td>1.43</td>\n",
              "      <td>3.79</td>\n",
              "      <td>&lt;0.005</td>\n",
              "      <td>12.70</td>\n",
              "    </tr>\n",
              "    <tr>\n",
              "      <th>un_continent_name_Oceania</th>\n",
              "      <td>-0.12</td>\n",
              "      <td>0.89</td>\n",
              "      <td>0.11</td>\n",
              "      <td>-0.33</td>\n",
              "      <td>0.10</td>\n",
              "      <td>0.72</td>\n",
              "      <td>1.10</td>\n",
              "      <td>-1.07</td>\n",
              "      <td>0.29</td>\n",
              "      <td>1.80</td>\n",
              "    </tr>\n",
              "    <tr>\n",
              "      <th>democracy_Non-democracy</th>\n",
              "      <td>-0.72</td>\n",
              "      <td>0.49</td>\n",
              "      <td>0.06</td>\n",
              "      <td>-0.84</td>\n",
              "      <td>-0.60</td>\n",
              "      <td>0.43</td>\n",
              "      <td>0.55</td>\n",
              "      <td>-11.48</td>\n",
              "      <td>&lt;0.005</td>\n",
              "      <td>98.97</td>\n",
              "    </tr>\n",
              "  </tbody>\n",
              "</table><div>\n",
              "<style scoped>\n",
              "    .dataframe tbody tr th:only-of-type {\n",
              "        vertical-align: middle;\n",
              "    }\n",
              "\n",
              "    .dataframe tbody tr th {\n",
              "        vertical-align: top;\n",
              "    }\n",
              "\n",
              "    .dataframe thead th {\n",
              "        text-align: right;\n",
              "    }\n",
              "</style>\n",
              "<table border=\"1\" class=\"dataframe\">\n",
              "  <tbody>\n",
              "    <tr>\n",
              "      <th>Concordance</th>\n",
              "      <td>0.62</td>\n",
              "    </tr>\n",
              "    <tr>\n",
              "      <th>Partial AIC</th>\n",
              "      <td>19236.25</td>\n",
              "    </tr>\n",
              "    <tr>\n",
              "      <th>log-likelihood ratio test</th>\n",
              "      <td>266.31 on 5 df</td>\n",
              "    </tr>\n",
              "    <tr>\n",
              "      <th>-log2(p) of ll-ratio test</th>\n",
              "      <td>181.91</td>\n",
              "    </tr>\n",
              "  </tbody>\n",
              "</table>\n",
              "</div>"
            ],
            "text/plain": [
              "<IPython.core.display.HTML object>"
            ]
          },
          "metadata": {
            "tags": []
          }
        }
      ]
    },
    {
      "cell_type": "code",
      "metadata": {
        "id": "iYkJ1coruTxx",
        "colab_type": "code",
        "colab": {
          "base_uri": "https://localhost:8080/",
          "height": 457
        },
        "outputId": "bd87d72f-3d57-4cbc-b2df-6123f7ea0e75"
      },
      "source": [
        "fig_coef, ax_coef = plt.subplots(figsize=(12,7))\n",
        "ax_coef.set_title('Survival Regression: Coefficients and Confident Intervals')\n",
        "cph.plot(ax=ax_coef)\n",
        "plt.show()"
      ],
      "execution_count": 30,
      "outputs": [
        {
          "output_type": "display_data",
          "data": {
            "image/png": "[encoded data removed]",
            "text/plain": [
              "<Figure size 864x504 with 1 Axes>"
            ]
          },
          "metadata": {
            "tags": []
          }
        }
      ]
    },
    {
      "cell_type": "code",
      "metadata": {
        "id": "H3hWrJk8uTx1",
        "colab_type": "code",
        "colab": {}
      },
      "source": [
        ""
      ],
      "execution_count": 0,
      "outputs": []
    }
  ]
}