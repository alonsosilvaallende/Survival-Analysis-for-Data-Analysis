{
 "cells": [
  {
   "cell_type": "markdown",
   "metadata": {},
   "source": [
    "# Survival Analysis"
   ]
  },
  {
   "cell_type": "markdown",
   "metadata": {
    "heading_collapsed": true,
    "slideshow": {
     "slide_type": "slide"
    }
   },
   "source": [
    "* Historically, survival analysis was developed and used by actuaries\n",
    "and medical researchers to measure the lifetime of populations.\n",
    "* What's the expected lifetime of patients that were given drug A? drug B?\n",
    "* What's the life-expectancy of a baby born today in France?\n",
    "\n",
    "These researchers wanted to measure the duration between *Birth* and *Death*\n",
    "\n",
    "\n",
    "Source: [Lifelines: Survival Analysis in Python](https://www.youtube.com/watch?v=XQfxndJH4UA)\n"
   ]
  },
  {
   "cell_type": "markdown",
   "metadata": {},
   "source": [
    "# Survival function and hazard function"
   ]
  },
  {
   "cell_type": "markdown",
   "metadata": {},
   "source": [
    "**Definition:** Let $T$ be a random variable called failure time.\n",
    "\n",
    "- $f(t)$ be its probability density function\n",
    "- $F(t):=\\mathcal{P}(T\\le t)$ its cumulative distribution function\n",
    "\n",
    "Then we define\n",
    "\n",
    "- The *survival function* $S(t):=\\mathcal{P}(T>t)=1-F(t)$.\n",
    "- The *hazard function* (probability of failure between $t$ and $t+\\delta t$ knowing that it was working at time $t$):\n",
    "$$\n",
    "h(t):=\\lim_{\\delta t\\to0}\\frac{\\mathcal{P}(T<t+\\delta t|T>t)}{\\delta t}=\n",
    "\\lim_{\\delta t\\to0}\\frac{F(t+\\delta t)-F(t)}{\\delta t}\\times\\frac{1}{1-F(t)}=\\frac{f(t)}{1-F(t)}.\n",
    "$$"
   ]
  },
  {
   "cell_type": "markdown",
   "metadata": {},
   "source": [
    "**Properties:**\n",
    "- $S(t)=\\exp(-\\int_0^t h(s)\\,ds)$.\n",
    "- $h(t)=-\\frac{d}{dt}\\ln(S(t))$."
   ]
  },
  {
   "cell_type": "markdown",
   "metadata": {
    "slideshow": {
     "slide_type": "slide"
    }
   },
   "source": [
    "# Right censoring\n",
    "\n",
    "By the end of the study, the event of interest (for example, in medicine \"death of a patient\" or \"churn of a customer\") has only occurred for a subset of the observations.\n",
    "\n"
   ]
  },
  {
   "cell_type": "markdown",
   "metadata": {
    "slideshow": {
     "slide_type": "slide"
    }
   },
   "source": [
    "# Modern Survival Analysis\n",
    "\n",
    "+ **Birth:** Customer joins Netflix  \n",
    "**Death:** Customer leaves Netflix  \n",
    "**Censorship:** At the current time, I cannot see all cancelations  \n",
    "  \n",
    "  \n",
    "+ **Birth:** Leader forms government  \n",
    "**Death:** Government dissolves  \n",
    "**Censorship:** Death of leader or current time do not allow me to see all dissolvements  \n",
    "\n",
    "\n",
    "+ **Birth:** Couple starts dating  \n",
    "**Death:** Couple breaks-up  \n",
    "**Censorship:** Some couples never break-up (partner's death comes first)  "
   ]
  },
  {
   "cell_type": "markdown",
   "metadata": {},
   "source": [
    "First, let's take a dataset from lifelines to see what does it mean in practice."
   ]
  },
  {
   "cell_type": "code",
   "execution_count": 1,
   "metadata": {
    "ExecuteTime": {
     "end_time": "2020-01-09T22:37:10.331529Z",
     "start_time": "2020-01-09T22:37:03.811697Z"
    },
    "slideshow": {
     "slide_type": "slide"
    }
   },
   "outputs": [],
   "source": [
    "import matplotlib.pyplot as plt\n",
    "import pandas as pd\n",
    "import numpy as np\n",
    "plt.style.use('seaborn')"
   ]
  },
  {
   "cell_type": "code",
   "execution_count": 2,
   "metadata": {},
   "outputs": [],
   "source": [
    "from lifelines.datasets import load_dd\n",
    "\n",
    "df = load_dd()\n",
    "df = df[['ctryname', 'un_region_name', 'un_continent_name', 'ehead',\\\n",
    "         'democracy', 'regime', 'start_year', 'duration', 'observed']]"
   ]
  },
  {
   "cell_type": "markdown",
   "metadata": {
    "slideshow": {
     "slide_type": "slide"
    }
   },
   "source": [
    "# Democracy and dictatorship\n",
    "\n",
    "This dataset contains a classification of political regimes as democracy and dictatorship.\n",
    "* Classification of democracies as \n",
    "  + parliamentary, \n",
    "  + semi-presidential (mixed), and \n",
    "  + presidential. \n",
    "  \n",
    "* Classification of dictatorships as \n",
    "  + military, \n",
    "  + civilian, and \n",
    "  + royal. \n",
    "  \n",
    "Coverage: 202 countries, from 1946 or year of independence to 2008.\n",
    "\n",
    "**References**\n",
    "\n",
    "José Antonio Cheibub, Jennifer Gandhi, and James Raymond Vreeland. [\"Democracy and Dictatorship Revisited.\"](https://doi.org/10.1007/s11127-009-9491-2) Public Choice, vol. 143, no. 2-1, pp. 67-101, 2010."
   ]
  },
  {
   "cell_type": "code",
   "execution_count": 3,
   "metadata": {
    "ExecuteTime": {
     "end_time": "2020-01-09T22:37:10.515360Z",
     "start_time": "2020-01-09T22:37:10.466697Z"
    },
    "slideshow": {
     "slide_type": "slide"
    }
   },
   "outputs": [
    {
     "data": {
      "text/html": [
       "<style  type=\"text/css\" >\n",
       "</style><table id=\"T_3d1007ea_9887_11ea_98c2_60f81dc8f27a\" ><thead>    <tr>        <th class=\"col_heading level0 col0\" >ctryname</th>        <th class=\"col_heading level0 col1\" >un_region_name</th>        <th class=\"col_heading level0 col2\" >un_continent_name</th>        <th class=\"col_heading level0 col3\" >ehead</th>        <th class=\"col_heading level0 col4\" >democracy</th>        <th class=\"col_heading level0 col5\" >regime</th>        <th class=\"col_heading level0 col6\" >start_year</th>        <th class=\"col_heading level0 col7\" >duration</th>        <th class=\"col_heading level0 col8\" >observed</th>    </tr></thead><tbody>\n",
       "                <tr>\n",
       "                                <td id=\"T_3d1007ea_9887_11ea_98c2_60f81dc8f27arow0_col0\" class=\"data row0 col0\" >Yugoslavia</td>\n",
       "                        <td id=\"T_3d1007ea_9887_11ea_98c2_60f81dc8f27arow0_col1\" class=\"data row0 col1\" >Southern Europe</td>\n",
       "                        <td id=\"T_3d1007ea_9887_11ea_98c2_60f81dc8f27arow0_col2\" class=\"data row0 col2\" >Europe</td>\n",
       "                        <td id=\"T_3d1007ea_9887_11ea_98c2_60f81dc8f27arow0_col3\" class=\"data row0 col3\" >Stipe Suvar</td>\n",
       "                        <td id=\"T_3d1007ea_9887_11ea_98c2_60f81dc8f27arow0_col4\" class=\"data row0 col4\" >Non-democracy</td>\n",
       "                        <td id=\"T_3d1007ea_9887_11ea_98c2_60f81dc8f27arow0_col5\" class=\"data row0 col5\" >Civilian Dict</td>\n",
       "                        <td id=\"T_3d1007ea_9887_11ea_98c2_60f81dc8f27arow0_col6\" class=\"data row0 col6\" >1988</td>\n",
       "                        <td id=\"T_3d1007ea_9887_11ea_98c2_60f81dc8f27arow0_col7\" class=\"data row0 col7\" >1</td>\n",
       "                        <td id=\"T_3d1007ea_9887_11ea_98c2_60f81dc8f27arow0_col8\" class=\"data row0 col8\" >1</td>\n",
       "            </tr>\n",
       "            <tr>\n",
       "                                <td id=\"T_3d1007ea_9887_11ea_98c2_60f81dc8f27arow1_col0\" class=\"data row1 col0\" >Yugoslavia</td>\n",
       "                        <td id=\"T_3d1007ea_9887_11ea_98c2_60f81dc8f27arow1_col1\" class=\"data row1 col1\" >Southern Europe</td>\n",
       "                        <td id=\"T_3d1007ea_9887_11ea_98c2_60f81dc8f27arow1_col2\" class=\"data row1 col2\" >Europe</td>\n",
       "                        <td id=\"T_3d1007ea_9887_11ea_98c2_60f81dc8f27arow1_col3\" class=\"data row1 col3\" >Milan Pancevski</td>\n",
       "                        <td id=\"T_3d1007ea_9887_11ea_98c2_60f81dc8f27arow1_col4\" class=\"data row1 col4\" >Non-democracy</td>\n",
       "                        <td id=\"T_3d1007ea_9887_11ea_98c2_60f81dc8f27arow1_col5\" class=\"data row1 col5\" >Civilian Dict</td>\n",
       "                        <td id=\"T_3d1007ea_9887_11ea_98c2_60f81dc8f27arow1_col6\" class=\"data row1 col6\" >1989</td>\n",
       "                        <td id=\"T_3d1007ea_9887_11ea_98c2_60f81dc8f27arow1_col7\" class=\"data row1 col7\" >1</td>\n",
       "                        <td id=\"T_3d1007ea_9887_11ea_98c2_60f81dc8f27arow1_col8\" class=\"data row1 col8\" >1</td>\n",
       "            </tr>\n",
       "            <tr>\n",
       "                                <td id=\"T_3d1007ea_9887_11ea_98c2_60f81dc8f27arow2_col0\" class=\"data row2 col0\" >Yugoslavia</td>\n",
       "                        <td id=\"T_3d1007ea_9887_11ea_98c2_60f81dc8f27arow2_col1\" class=\"data row2 col1\" >Southern Europe</td>\n",
       "                        <td id=\"T_3d1007ea_9887_11ea_98c2_60f81dc8f27arow2_col2\" class=\"data row2 col2\" >Europe</td>\n",
       "                        <td id=\"T_3d1007ea_9887_11ea_98c2_60f81dc8f27arow2_col3\" class=\"data row2 col3\" >Borisav Jovic</td>\n",
       "                        <td id=\"T_3d1007ea_9887_11ea_98c2_60f81dc8f27arow2_col4\" class=\"data row2 col4\" >Non-democracy</td>\n",
       "                        <td id=\"T_3d1007ea_9887_11ea_98c2_60f81dc8f27arow2_col5\" class=\"data row2 col5\" >Civilian Dict</td>\n",
       "                        <td id=\"T_3d1007ea_9887_11ea_98c2_60f81dc8f27arow2_col6\" class=\"data row2 col6\" >1990</td>\n",
       "                        <td id=\"T_3d1007ea_9887_11ea_98c2_60f81dc8f27arow2_col7\" class=\"data row2 col7\" >1</td>\n",
       "                        <td id=\"T_3d1007ea_9887_11ea_98c2_60f81dc8f27arow2_col8\" class=\"data row2 col8\" >0</td>\n",
       "            </tr>\n",
       "            <tr>\n",
       "                                <td id=\"T_3d1007ea_9887_11ea_98c2_60f81dc8f27arow3_col0\" class=\"data row3 col0\" >Zambia</td>\n",
       "                        <td id=\"T_3d1007ea_9887_11ea_98c2_60f81dc8f27arow3_col1\" class=\"data row3 col1\" >Eastern Africa</td>\n",
       "                        <td id=\"T_3d1007ea_9887_11ea_98c2_60f81dc8f27arow3_col2\" class=\"data row3 col2\" >Africa</td>\n",
       "                        <td id=\"T_3d1007ea_9887_11ea_98c2_60f81dc8f27arow3_col3\" class=\"data row3 col3\" >Kenneth Kaunda</td>\n",
       "                        <td id=\"T_3d1007ea_9887_11ea_98c2_60f81dc8f27arow3_col4\" class=\"data row3 col4\" >Non-democracy</td>\n",
       "                        <td id=\"T_3d1007ea_9887_11ea_98c2_60f81dc8f27arow3_col5\" class=\"data row3 col5\" >Civilian Dict</td>\n",
       "                        <td id=\"T_3d1007ea_9887_11ea_98c2_60f81dc8f27arow3_col6\" class=\"data row3 col6\" >1964</td>\n",
       "                        <td id=\"T_3d1007ea_9887_11ea_98c2_60f81dc8f27arow3_col7\" class=\"data row3 col7\" >27</td>\n",
       "                        <td id=\"T_3d1007ea_9887_11ea_98c2_60f81dc8f27arow3_col8\" class=\"data row3 col8\" >1</td>\n",
       "            </tr>\n",
       "            <tr>\n",
       "                                <td id=\"T_3d1007ea_9887_11ea_98c2_60f81dc8f27arow4_col0\" class=\"data row4 col0\" >Zambia</td>\n",
       "                        <td id=\"T_3d1007ea_9887_11ea_98c2_60f81dc8f27arow4_col1\" class=\"data row4 col1\" >Eastern Africa</td>\n",
       "                        <td id=\"T_3d1007ea_9887_11ea_98c2_60f81dc8f27arow4_col2\" class=\"data row4 col2\" >Africa</td>\n",
       "                        <td id=\"T_3d1007ea_9887_11ea_98c2_60f81dc8f27arow4_col3\" class=\"data row4 col3\" >Frederick Chiluba</td>\n",
       "                        <td id=\"T_3d1007ea_9887_11ea_98c2_60f81dc8f27arow4_col4\" class=\"data row4 col4\" >Non-democracy</td>\n",
       "                        <td id=\"T_3d1007ea_9887_11ea_98c2_60f81dc8f27arow4_col5\" class=\"data row4 col5\" >Civilian Dict</td>\n",
       "                        <td id=\"T_3d1007ea_9887_11ea_98c2_60f81dc8f27arow4_col6\" class=\"data row4 col6\" >1991</td>\n",
       "                        <td id=\"T_3d1007ea_9887_11ea_98c2_60f81dc8f27arow4_col7\" class=\"data row4 col7\" >11</td>\n",
       "                        <td id=\"T_3d1007ea_9887_11ea_98c2_60f81dc8f27arow4_col8\" class=\"data row4 col8\" >1</td>\n",
       "            </tr>\n",
       "            <tr>\n",
       "                                <td id=\"T_3d1007ea_9887_11ea_98c2_60f81dc8f27arow5_col0\" class=\"data row5 col0\" >Zambia</td>\n",
       "                        <td id=\"T_3d1007ea_9887_11ea_98c2_60f81dc8f27arow5_col1\" class=\"data row5 col1\" >Eastern Africa</td>\n",
       "                        <td id=\"T_3d1007ea_9887_11ea_98c2_60f81dc8f27arow5_col2\" class=\"data row5 col2\" >Africa</td>\n",
       "                        <td id=\"T_3d1007ea_9887_11ea_98c2_60f81dc8f27arow5_col3\" class=\"data row5 col3\" >Levy Patrick Mwanawasa</td>\n",
       "                        <td id=\"T_3d1007ea_9887_11ea_98c2_60f81dc8f27arow5_col4\" class=\"data row5 col4\" >Non-democracy</td>\n",
       "                        <td id=\"T_3d1007ea_9887_11ea_98c2_60f81dc8f27arow5_col5\" class=\"data row5 col5\" >Civilian Dict</td>\n",
       "                        <td id=\"T_3d1007ea_9887_11ea_98c2_60f81dc8f27arow5_col6\" class=\"data row5 col6\" >2002</td>\n",
       "                        <td id=\"T_3d1007ea_9887_11ea_98c2_60f81dc8f27arow5_col7\" class=\"data row5 col7\" >6</td>\n",
       "                        <td id=\"T_3d1007ea_9887_11ea_98c2_60f81dc8f27arow5_col8\" class=\"data row5 col8\" >1</td>\n",
       "            </tr>\n",
       "            <tr>\n",
       "                                <td id=\"T_3d1007ea_9887_11ea_98c2_60f81dc8f27arow6_col0\" class=\"data row6 col0\" >Zambia</td>\n",
       "                        <td id=\"T_3d1007ea_9887_11ea_98c2_60f81dc8f27arow6_col1\" class=\"data row6 col1\" >Eastern Africa</td>\n",
       "                        <td id=\"T_3d1007ea_9887_11ea_98c2_60f81dc8f27arow6_col2\" class=\"data row6 col2\" >Africa</td>\n",
       "                        <td id=\"T_3d1007ea_9887_11ea_98c2_60f81dc8f27arow6_col3\" class=\"data row6 col3\" >Rupiah Bwezani Banda</td>\n",
       "                        <td id=\"T_3d1007ea_9887_11ea_98c2_60f81dc8f27arow6_col4\" class=\"data row6 col4\" >Non-democracy</td>\n",
       "                        <td id=\"T_3d1007ea_9887_11ea_98c2_60f81dc8f27arow6_col5\" class=\"data row6 col5\" >Civilian Dict</td>\n",
       "                        <td id=\"T_3d1007ea_9887_11ea_98c2_60f81dc8f27arow6_col6\" class=\"data row6 col6\" >2008</td>\n",
       "                        <td id=\"T_3d1007ea_9887_11ea_98c2_60f81dc8f27arow6_col7\" class=\"data row6 col7\" >1</td>\n",
       "                        <td id=\"T_3d1007ea_9887_11ea_98c2_60f81dc8f27arow6_col8\" class=\"data row6 col8\" >0</td>\n",
       "            </tr>\n",
       "            <tr>\n",
       "                                <td id=\"T_3d1007ea_9887_11ea_98c2_60f81dc8f27arow7_col0\" class=\"data row7 col0\" >Zimbabwe</td>\n",
       "                        <td id=\"T_3d1007ea_9887_11ea_98c2_60f81dc8f27arow7_col1\" class=\"data row7 col1\" >Eastern Africa</td>\n",
       "                        <td id=\"T_3d1007ea_9887_11ea_98c2_60f81dc8f27arow7_col2\" class=\"data row7 col2\" >Africa</td>\n",
       "                        <td id=\"T_3d1007ea_9887_11ea_98c2_60f81dc8f27arow7_col3\" class=\"data row7 col3\" >Ian Smith</td>\n",
       "                        <td id=\"T_3d1007ea_9887_11ea_98c2_60f81dc8f27arow7_col4\" class=\"data row7 col4\" >Non-democracy</td>\n",
       "                        <td id=\"T_3d1007ea_9887_11ea_98c2_60f81dc8f27arow7_col5\" class=\"data row7 col5\" >Civilian Dict</td>\n",
       "                        <td id=\"T_3d1007ea_9887_11ea_98c2_60f81dc8f27arow7_col6\" class=\"data row7 col6\" >1965</td>\n",
       "                        <td id=\"T_3d1007ea_9887_11ea_98c2_60f81dc8f27arow7_col7\" class=\"data row7 col7\" >14</td>\n",
       "                        <td id=\"T_3d1007ea_9887_11ea_98c2_60f81dc8f27arow7_col8\" class=\"data row7 col8\" >1</td>\n",
       "            </tr>\n",
       "            <tr>\n",
       "                                <td id=\"T_3d1007ea_9887_11ea_98c2_60f81dc8f27arow8_col0\" class=\"data row8 col0\" >Zimbabwe</td>\n",
       "                        <td id=\"T_3d1007ea_9887_11ea_98c2_60f81dc8f27arow8_col1\" class=\"data row8 col1\" >Eastern Africa</td>\n",
       "                        <td id=\"T_3d1007ea_9887_11ea_98c2_60f81dc8f27arow8_col2\" class=\"data row8 col2\" >Africa</td>\n",
       "                        <td id=\"T_3d1007ea_9887_11ea_98c2_60f81dc8f27arow8_col3\" class=\"data row8 col3\" >Abel Muzorewa</td>\n",
       "                        <td id=\"T_3d1007ea_9887_11ea_98c2_60f81dc8f27arow8_col4\" class=\"data row8 col4\" >Non-democracy</td>\n",
       "                        <td id=\"T_3d1007ea_9887_11ea_98c2_60f81dc8f27arow8_col5\" class=\"data row8 col5\" >Civilian Dict</td>\n",
       "                        <td id=\"T_3d1007ea_9887_11ea_98c2_60f81dc8f27arow8_col6\" class=\"data row8 col6\" >1979</td>\n",
       "                        <td id=\"T_3d1007ea_9887_11ea_98c2_60f81dc8f27arow8_col7\" class=\"data row8 col7\" >1</td>\n",
       "                        <td id=\"T_3d1007ea_9887_11ea_98c2_60f81dc8f27arow8_col8\" class=\"data row8 col8\" >1</td>\n",
       "            </tr>\n",
       "            <tr>\n",
       "                                <td id=\"T_3d1007ea_9887_11ea_98c2_60f81dc8f27arow9_col0\" class=\"data row9 col0\" >Zimbabwe</td>\n",
       "                        <td id=\"T_3d1007ea_9887_11ea_98c2_60f81dc8f27arow9_col1\" class=\"data row9 col1\" >Eastern Africa</td>\n",
       "                        <td id=\"T_3d1007ea_9887_11ea_98c2_60f81dc8f27arow9_col2\" class=\"data row9 col2\" >Africa</td>\n",
       "                        <td id=\"T_3d1007ea_9887_11ea_98c2_60f81dc8f27arow9_col3\" class=\"data row9 col3\" >Robert Mugabe</td>\n",
       "                        <td id=\"T_3d1007ea_9887_11ea_98c2_60f81dc8f27arow9_col4\" class=\"data row9 col4\" >Non-democracy</td>\n",
       "                        <td id=\"T_3d1007ea_9887_11ea_98c2_60f81dc8f27arow9_col5\" class=\"data row9 col5\" >Civilian Dict</td>\n",
       "                        <td id=\"T_3d1007ea_9887_11ea_98c2_60f81dc8f27arow9_col6\" class=\"data row9 col6\" >1980</td>\n",
       "                        <td id=\"T_3d1007ea_9887_11ea_98c2_60f81dc8f27arow9_col7\" class=\"data row9 col7\" >29</td>\n",
       "                        <td id=\"T_3d1007ea_9887_11ea_98c2_60f81dc8f27arow9_col8\" class=\"data row9 col8\" >0</td>\n",
       "            </tr>\n",
       "    </tbody></table>"
      ],
      "text/plain": [
       "<pandas.io.formats.style.Styler at 0x111dde790>"
      ]
     },
     "execution_count": 3,
     "metadata": {},
     "output_type": "execute_result"
    }
   ],
   "source": [
    "df.tail(10).style.hide_index()"
   ]
  },
  {
   "cell_type": "markdown",
   "metadata": {},
   "source": [
    "Let's look at right-censored samples."
   ]
  },
  {
   "cell_type": "code",
   "execution_count": 4,
   "metadata": {
    "ExecuteTime": {
     "end_time": "2020-01-09T22:37:12.185066Z",
     "start_time": "2020-01-09T22:37:10.519270Z"
    },
    "scrolled": false,
    "slideshow": {
     "slide_type": "slide"
    }
   },
   "outputs": [
    {
     "data": {
      "text/html": [
       "<style  type=\"text/css\" >\n",
       "    #T_61280ec0_9887_11ea_98c2_60f81dc8f27arow2_col2 {\n",
       "            background-color:  lightgreen;\n",
       "        }    #T_61280ec0_9887_11ea_98c2_60f81dc8f27arow10_col2 {\n",
       "            background-color:  lightgreen;\n",
       "        }</style><table id=\"T_61280ec0_9887_11ea_98c2_60f81dc8f27a\" ><thead>    <tr>        <th class=\"col_heading level0 col0\" >ehead</th>        <th class=\"col_heading level0 col1\" >duration</th>        <th class=\"col_heading level0 col2\" >observed</th>    </tr></thead><tbody>\n",
       "                <tr>\n",
       "                                <td id=\"T_61280ec0_9887_11ea_98c2_60f81dc8f27arow0_col0\" class=\"data row0 col0\" >Harry Truman</td>\n",
       "                        <td id=\"T_61280ec0_9887_11ea_98c2_60f81dc8f27arow0_col1\" class=\"data row0 col1\" >7</td>\n",
       "                        <td id=\"T_61280ec0_9887_11ea_98c2_60f81dc8f27arow0_col2\" class=\"data row0 col2\" >1</td>\n",
       "            </tr>\n",
       "            <tr>\n",
       "                                <td id=\"T_61280ec0_9887_11ea_98c2_60f81dc8f27arow1_col0\" class=\"data row1 col0\" >Dwight D. Eisenhower</td>\n",
       "                        <td id=\"T_61280ec0_9887_11ea_98c2_60f81dc8f27arow1_col1\" class=\"data row1 col1\" >8</td>\n",
       "                        <td id=\"T_61280ec0_9887_11ea_98c2_60f81dc8f27arow1_col2\" class=\"data row1 col2\" >1</td>\n",
       "            </tr>\n",
       "            <tr>\n",
       "                                <td id=\"T_61280ec0_9887_11ea_98c2_60f81dc8f27arow2_col0\" class=\"data row2 col0\" >John Kennedy</td>\n",
       "                        <td id=\"T_61280ec0_9887_11ea_98c2_60f81dc8f27arow2_col1\" class=\"data row2 col1\" >2</td>\n",
       "                        <td id=\"T_61280ec0_9887_11ea_98c2_60f81dc8f27arow2_col2\" class=\"data row2 col2\" >0</td>\n",
       "            </tr>\n",
       "            <tr>\n",
       "                                <td id=\"T_61280ec0_9887_11ea_98c2_60f81dc8f27arow3_col0\" class=\"data row3 col0\" >Lyndon Johnson</td>\n",
       "                        <td id=\"T_61280ec0_9887_11ea_98c2_60f81dc8f27arow3_col1\" class=\"data row3 col1\" >6</td>\n",
       "                        <td id=\"T_61280ec0_9887_11ea_98c2_60f81dc8f27arow3_col2\" class=\"data row3 col2\" >1</td>\n",
       "            </tr>\n",
       "            <tr>\n",
       "                                <td id=\"T_61280ec0_9887_11ea_98c2_60f81dc8f27arow4_col0\" class=\"data row4 col0\" >Richard Nixon</td>\n",
       "                        <td id=\"T_61280ec0_9887_11ea_98c2_60f81dc8f27arow4_col1\" class=\"data row4 col1\" >5</td>\n",
       "                        <td id=\"T_61280ec0_9887_11ea_98c2_60f81dc8f27arow4_col2\" class=\"data row4 col2\" >1</td>\n",
       "            </tr>\n",
       "            <tr>\n",
       "                                <td id=\"T_61280ec0_9887_11ea_98c2_60f81dc8f27arow5_col0\" class=\"data row5 col0\" >Gerald Ford</td>\n",
       "                        <td id=\"T_61280ec0_9887_11ea_98c2_60f81dc8f27arow5_col1\" class=\"data row5 col1\" >3</td>\n",
       "                        <td id=\"T_61280ec0_9887_11ea_98c2_60f81dc8f27arow5_col2\" class=\"data row5 col2\" >1</td>\n",
       "            </tr>\n",
       "            <tr>\n",
       "                                <td id=\"T_61280ec0_9887_11ea_98c2_60f81dc8f27arow6_col0\" class=\"data row6 col0\" >Jimmy Carter</td>\n",
       "                        <td id=\"T_61280ec0_9887_11ea_98c2_60f81dc8f27arow6_col1\" class=\"data row6 col1\" >4</td>\n",
       "                        <td id=\"T_61280ec0_9887_11ea_98c2_60f81dc8f27arow6_col2\" class=\"data row6 col2\" >1</td>\n",
       "            </tr>\n",
       "            <tr>\n",
       "                                <td id=\"T_61280ec0_9887_11ea_98c2_60f81dc8f27arow7_col0\" class=\"data row7 col0\" >Ronald Reagan</td>\n",
       "                        <td id=\"T_61280ec0_9887_11ea_98c2_60f81dc8f27arow7_col1\" class=\"data row7 col1\" >8</td>\n",
       "                        <td id=\"T_61280ec0_9887_11ea_98c2_60f81dc8f27arow7_col2\" class=\"data row7 col2\" >1</td>\n",
       "            </tr>\n",
       "            <tr>\n",
       "                                <td id=\"T_61280ec0_9887_11ea_98c2_60f81dc8f27arow8_col0\" class=\"data row8 col0\" >George Bush</td>\n",
       "                        <td id=\"T_61280ec0_9887_11ea_98c2_60f81dc8f27arow8_col1\" class=\"data row8 col1\" >4</td>\n",
       "                        <td id=\"T_61280ec0_9887_11ea_98c2_60f81dc8f27arow8_col2\" class=\"data row8 col2\" >1</td>\n",
       "            </tr>\n",
       "            <tr>\n",
       "                                <td id=\"T_61280ec0_9887_11ea_98c2_60f81dc8f27arow9_col0\" class=\"data row9 col0\" >Bill Clinton</td>\n",
       "                        <td id=\"T_61280ec0_9887_11ea_98c2_60f81dc8f27arow9_col1\" class=\"data row9 col1\" >8</td>\n",
       "                        <td id=\"T_61280ec0_9887_11ea_98c2_60f81dc8f27arow9_col2\" class=\"data row9 col2\" >1</td>\n",
       "            </tr>\n",
       "            <tr>\n",
       "                                <td id=\"T_61280ec0_9887_11ea_98c2_60f81dc8f27arow10_col0\" class=\"data row10 col0\" >George W. Bush</td>\n",
       "                        <td id=\"T_61280ec0_9887_11ea_98c2_60f81dc8f27arow10_col1\" class=\"data row10 col1\" >8</td>\n",
       "                        <td id=\"T_61280ec0_9887_11ea_98c2_60f81dc8f27arow10_col2\" class=\"data row10 col2\" >0</td>\n",
       "            </tr>\n",
       "    </tbody></table>"
      ],
      "text/plain": [
       "<pandas.io.formats.style.Styler at 0x11bf38400>"
      ]
     },
     "execution_count": 4,
     "metadata": {},
     "output_type": "execute_result"
    }
   ],
   "source": [
    "format_dict = {'ehead':'{}','duration':'{}', 'observed':'{}'}\n",
    "(df.query('ctryname == \"United States of America\"')[['ehead', 'duration', 'observed']].style.format(format_dict)\n",
    "  .hide_index()\n",
    "  .highlight_min('observed', color='lightgreen'))"
   ]
  },
  {
   "cell_type": "code",
   "execution_count": 5,
   "metadata": {
    "ExecuteTime": {
     "end_time": "2020-01-09T22:37:12.216114Z",
     "start_time": "2020-01-09T22:37:12.189453Z"
    },
    "slideshow": {
     "slide_type": "slide"
    }
   },
   "outputs": [
    {
     "name": "stdout",
     "output_type": "stream",
     "text": [
      "samples: 1808\n",
      "\n",
      "right censored samples: 340\n",
      "right censored samples (%): 18.8%\n"
     ]
    }
   ],
   "source": [
    "print(f'samples: {len(df)}\\n')\n",
    "print(f'right censored samples: {len(df.query(\"observed == 0\"))}')\n",
    "print(f'right censored samples (%): {100*len(df.query(\"observed == 0\"))/len(df):.1f}%')"
   ]
  },
  {
   "cell_type": "markdown",
   "metadata": {},
   "source": [
    "# How can we estimate the probability of a government survival?"
   ]
  },
  {
   "cell_type": "markdown",
   "metadata": {},
   "source": [
    "**Example:** I want to estimate the survival function of a new machine and I have 100 of these new machines. After the first year:\n",
    "\n",
    "Samples | I \n",
    "--- | --- \n",
    "Initial numbers | 100 \n",
    "Deaths in first year of age | 70 \n",
    "One-year survivors | `30` \n",
    "\n",
    "Therefore, a reasonable estimate of the survival probability of 1 year is 0.3.\n",
    "\n",
    "I have increased my production. So now I have 1000 new machines.\n",
    "\n",
    "Samples | I | II\n",
    "--- | --- | ---\n",
    "Initial numbers | 100 | 1000\n",
    "Deaths in first year of age | 70 | 750\n",
    "One-year survivors | `30` | `250`\n",
    "Deaths in second year of age | 15 | \n",
    "Two-year survivors | `15` | \n",
    "\n",
    "What would be a good estimate of the survival probability of 1 year? and 2 years?"
   ]
  },
  {
   "cell_type": "markdown",
   "metadata": {},
   "source": [
    "The estimate of the probability of survival of 1 year would be \n",
    "$\\hat{P}(1)=(30+250)/(100+1000) \\sim 0.255$"
   ]
  },
  {
   "cell_type": "markdown",
   "metadata": {},
   "source": [
    "$\\hat{P}(2|1) = 15/30 = 0.5$"
   ]
  },
  {
   "cell_type": "markdown",
   "metadata": {},
   "source": [
    "$\\hat{P}(2)=0.255\\times0.5=0.127$"
   ]
  },
  {
   "cell_type": "markdown",
   "metadata": {},
   "source": [
    "# Kaplan-Meier estimator"
   ]
  },
  {
   "cell_type": "markdown",
   "metadata": {},
   "source": [
    "**Definition:** Kaplan-Meier estimator of the survival function is given by\n",
    "\n",
    "$$\n",
    "\\hat{S}(t):=\\prod_{i:t_i\\le t}\\left(1-\\frac{d_i}{n_i}\\right)\n",
    "$$\n",
    "where $t_i$ is a time where at least one event happened, $d_i$ the number of events that happened at time $t_i$, and $n_i$ the individuals known to have survived up to time $t_i$."
   ]
  },
  {
   "cell_type": "markdown",
   "metadata": {
    "slideshow": {
     "slide_type": "slide"
    }
   },
   "source": [
    "We use the [Kaplan-Meier estimator](https://en.wikipedia.org/wiki/Kaplan?Meier_estimator) to estimate the probability of a government survival."
   ]
  },
  {
   "cell_type": "code",
   "execution_count": 6,
   "metadata": {
    "ExecuteTime": {
     "end_time": "2020-01-09T22:37:16.155051Z",
     "start_time": "2020-01-09T22:37:12.219801Z"
    },
    "scrolled": false,
    "slideshow": {
     "slide_type": "slide"
    }
   },
   "outputs": [
    {
     "data": {
      "image/png": "[encoded data removed]",
      "text/plain": [
       "<Figure size 720x504 with 1 Axes>"
      ]
     },
     "metadata": {},
     "output_type": "display_data"
    }
   ],
   "source": [
    "from lifelines import KaplanMeierFitter\n",
    "kmf = KaplanMeierFitter()\n",
    "kmf.fit(df['duration'],df['observed'], label='Estimate for average government')\n",
    "\n",
    "fig, ax = plt.subplots(figsize=(10,7))\n",
    "kmf.plot(ax=ax)\n",
    "plt.title('Estimated probability of government survival vs number of years')\n",
    "plt.xlabel('Time (in years)')\n",
    "plt.ylabel('Estimated probability of government survival')\n",
    "plt.show()"
   ]
  },
  {
   "cell_type": "code",
   "execution_count": 7,
   "metadata": {},
   "outputs": [
    {
     "name": "stdout",
     "output_type": "stream",
     "text": [
      "The median number of years of government survival is 4.0\n"
     ]
    }
   ],
   "source": [
    "print(f'The median number of years of government survival is {kmf.median_survival_time_}')"
   ]
  },
  {
   "cell_type": "code",
   "execution_count": 8,
   "metadata": {
    "scrolled": false
   },
   "outputs": [
    {
     "data": {
      "image/png": "[encoded data removed]",
      "text/plain": [
       "<Figure size 720x504 with 1 Axes>"
      ]
     },
     "metadata": {},
     "output_type": "display_data"
    }
   ],
   "source": [
    "fig, ax = plt.subplots(figsize=(10,7))\n",
    "for r in df['democracy'].unique():\n",
    "    ix = df['democracy'] == r\n",
    "    kmf.fit(df['duration'].loc[ix], df['observed'].loc[ix], label=r)\n",
    "    kmf.plot(ax=ax)\n",
    "plt.title('Estimated probability of government survival vs number of years')\n",
    "plt.xlabel('Time (in years)')\n",
    "plt.ylabel('Estimated probability of government survival')\n",
    "plt.show()"
   ]
  },
  {
   "cell_type": "code",
   "execution_count": 9,
   "metadata": {},
   "outputs": [
    {
     "name": "stdout",
     "output_type": "stream",
     "text": [
      "The median number of years for a Non-democracy is 6.0\n",
      "The median number of years for a Democracy is 3.0\n"
     ]
    }
   ],
   "source": [
    "for r in df['democracy'].unique():\n",
    "    ix = df['democracy'] == r\n",
    "    kmf.fit(df['duration'].loc[ix], df['observed'].loc[ix], label=r)\n",
    "    print(f'The median number of years for a {r} is {kmf.median_survival_time_}')"
   ]
  },
  {
   "cell_type": "markdown",
   "metadata": {},
   "source": [
    "How can we tell if these survival functions are different?"
   ]
  },
  {
   "cell_type": "markdown",
   "metadata": {},
   "source": [
    "# Log-rank test (not recommended but still very common statistical test)"
   ]
  },
  {
   "cell_type": "code",
   "execution_count": 10,
   "metadata": {
    "scrolled": false
   },
   "outputs": [
    {
     "data": {
      "text/plain": [
       "array(['Non-democracy', 'Democracy'], dtype=object)"
      ]
     },
     "execution_count": 10,
     "metadata": {},
     "output_type": "execute_result"
    }
   ],
   "source": [
    "df['democracy'].unique()"
   ]
  },
  {
   "cell_type": "code",
   "execution_count": 11,
   "metadata": {},
   "outputs": [],
   "source": [
    "from lifelines.statistics import logrank_test"
   ]
  },
  {
   "cell_type": "code",
   "execution_count": 12,
   "metadata": {},
   "outputs": [],
   "source": [
    "ix = df['democracy'] == 'Democracy'\n",
    "T_democracy, E_democracy = df.loc[ix, 'duration'], df.loc[ix, 'observed']\n",
    "T_non_democracy, E_non_democracy = df.loc[~ix, 'duration'], df.loc[~ix, 'observed']"
   ]
  },
  {
   "cell_type": "code",
   "execution_count": 13,
   "metadata": {
    "scrolled": true
   },
   "outputs": [
    {
     "data": {
      "text/html": [
       "<div>\n",
       "<style scoped>\n",
       "    .dataframe tbody tr th:only-of-type {\n",
       "        vertical-align: middle;\n",
       "    }\n",
       "\n",
       "    .dataframe tbody tr th {\n",
       "        vertical-align: top;\n",
       "    }\n",
       "\n",
       "    .dataframe thead th {\n",
       "        text-align: right;\n",
       "    }\n",
       "</style>\n",
       "<table border=\"1\" class=\"dataframe\">\n",
       "  <tbody>\n",
       "    <tr>\n",
       "      <th>t_0</th>\n",
       "      <td>-1</td>\n",
       "    </tr>\n",
       "    <tr>\n",
       "      <th>null_distribution</th>\n",
       "      <td>chi squared</td>\n",
       "    </tr>\n",
       "    <tr>\n",
       "      <th>degrees_of_freedom</th>\n",
       "      <td>1</td>\n",
       "    </tr>\n",
       "    <tr>\n",
       "      <th>test_name</th>\n",
       "      <td>logrank_test</td>\n",
       "    </tr>\n",
       "  </tbody>\n",
       "</table>\n",
       "</div><table border=\"1\" class=\"dataframe\">\n",
       "  <thead>\n",
       "    <tr style=\"text-align: right;\">\n",
       "      <th></th>\n",
       "      <th>test_statistic</th>\n",
       "      <th>p</th>\n",
       "    </tr>\n",
       "  </thead>\n",
       "  <tbody>\n",
       "    <tr>\n",
       "      <th>0</th>\n",
       "      <td>260.47</td>\n",
       "      <td>&lt;0.005</td>\n",
       "    </tr>\n",
       "  </tbody>\n",
       "</table>"
      ],
      "text/plain": [
       "<IPython.core.display.HTML object>"
      ]
     },
     "metadata": {},
     "output_type": "display_data"
    }
   ],
   "source": [
    "results = logrank_test(T_democracy, T_non_democracy, event_observed_A=E_democracy, event_observed_B=E_non_democracy)\n",
    "results.print_summary()"
   ]
  },
  {
   "cell_type": "code",
   "execution_count": 14,
   "metadata": {},
   "outputs": [
    {
     "name": "stdout",
     "output_type": "stream",
     "text": [
      "1.3557143218483999e-58\n",
      "260.4695390779592\n"
     ]
    }
   ],
   "source": [
    "print(results.p_value)\n",
    "print(results.test_statistic)"
   ]
  },
  {
   "cell_type": "markdown",
   "metadata": {},
   "source": [
    "# Univariate Cox regression"
   ]
  },
  {
   "cell_type": "code",
   "execution_count": 15,
   "metadata": {},
   "outputs": [
    {
     "data": {
      "text/html": [
       "<div>\n",
       "<style scoped>\n",
       "    .dataframe tbody tr th:only-of-type {\n",
       "        vertical-align: middle;\n",
       "    }\n",
       "\n",
       "    .dataframe tbody tr th {\n",
       "        vertical-align: top;\n",
       "    }\n",
       "\n",
       "    .dataframe thead th {\n",
       "        text-align: right;\n",
       "    }\n",
       "</style>\n",
       "<table border=\"1\" class=\"dataframe\">\n",
       "  <tbody>\n",
       "    <tr>\n",
       "      <th>model</th>\n",
       "      <td>lifelines.CoxPHFitter</td>\n",
       "    </tr>\n",
       "    <tr>\n",
       "      <th>duration col</th>\n",
       "      <td>'duration'</td>\n",
       "    </tr>\n",
       "    <tr>\n",
       "      <th>event col</th>\n",
       "      <td>'observed'</td>\n",
       "    </tr>\n",
       "    <tr>\n",
       "      <th>baseline estimation</th>\n",
       "      <td>breslow</td>\n",
       "    </tr>\n",
       "    <tr>\n",
       "      <th>number of observations</th>\n",
       "      <td>1808</td>\n",
       "    </tr>\n",
       "    <tr>\n",
       "      <th>number of events observed</th>\n",
       "      <td>1468</td>\n",
       "    </tr>\n",
       "    <tr>\n",
       "      <th>partial log-likelihood</th>\n",
       "      <td>-9614.27</td>\n",
       "    </tr>\n",
       "    <tr>\n",
       "      <th>time fit was run</th>\n",
       "      <td>2020-05-17 21:57:53 UTC</td>\n",
       "    </tr>\n",
       "  </tbody>\n",
       "</table>\n",
       "</div><table border=\"1\" class=\"dataframe\">\n",
       "  <thead>\n",
       "    <tr style=\"text-align: right;\">\n",
       "      <th></th>\n",
       "      <th>coef</th>\n",
       "      <th>exp(coef)</th>\n",
       "      <th>se(coef)</th>\n",
       "      <th>coef lower 95%</th>\n",
       "      <th>coef upper 95%</th>\n",
       "      <th>exp(coef) lower 95%</th>\n",
       "      <th>exp(coef) upper 95%</th>\n",
       "      <th>z</th>\n",
       "      <th>p</th>\n",
       "      <th>-log2(p)</th>\n",
       "    </tr>\n",
       "  </thead>\n",
       "  <tbody>\n",
       "    <tr>\n",
       "      <th>indicator</th>\n",
       "      <td>0.96</td>\n",
       "      <td>2.62</td>\n",
       "      <td>0.06</td>\n",
       "      <td>0.84</td>\n",
       "      <td>1.09</td>\n",
       "      <td>2.32</td>\n",
       "      <td>2.96</td>\n",
       "      <td>15.40</td>\n",
       "      <td>&lt;0.005</td>\n",
       "      <td>175.43</td>\n",
       "    </tr>\n",
       "  </tbody>\n",
       "</table><div>\n",
       "<style scoped>\n",
       "    .dataframe tbody tr th:only-of-type {\n",
       "        vertical-align: middle;\n",
       "    }\n",
       "\n",
       "    .dataframe tbody tr th {\n",
       "        vertical-align: top;\n",
       "    }\n",
       "\n",
       "    .dataframe thead th {\n",
       "        text-align: right;\n",
       "    }\n",
       "</style>\n",
       "<table border=\"1\" class=\"dataframe\">\n",
       "  <tbody>\n",
       "    <tr>\n",
       "      <th>Concordance</th>\n",
       "      <td>0.59</td>\n",
       "    </tr>\n",
       "    <tr>\n",
       "      <th>Log-likelihood ratio test</th>\n",
       "      <td>264.03 on 1 df</td>\n",
       "    </tr>\n",
       "    <tr>\n",
       "      <th>-log2(p) of ll-ratio test</th>\n",
       "      <td>194.81</td>\n",
       "    </tr>\n",
       "  </tbody>\n",
       "</table>\n",
       "</div>"
      ],
      "text/plain": [
       "<IPython.core.display.HTML object>"
      ]
     },
     "metadata": {},
     "output_type": "display_data"
    }
   ],
   "source": [
    "from lifelines import CoxPHFitter\n",
    "\n",
    "cph = CoxPHFitter()\n",
    "df_Uni_Cox = df.copy()\n",
    "df_Uni_Cox['indicator'] = df_Uni_Cox['democracy'] == 'Democracy'\n",
    "cph.fit(df_Uni_Cox[['indicator', 'duration', 'observed']], 'duration', 'observed')\n",
    "cph.print_summary()"
   ]
  },
  {
   "cell_type": "code",
   "execution_count": 17,
   "metadata": {
    "ExecuteTime": {
     "end_time": "2020-01-09T22:37:17.131185Z",
     "start_time": "2020-01-09T22:37:16.573714Z"
    },
    "slideshow": {
     "slide_type": "slide"
    }
   },
   "outputs": [
    {
     "data": {
      "image/png": "[encoded data removed]",
      "text/plain": [
       "<Figure size 720x504 with 1 Axes>"
      ]
     },
     "metadata": {},
     "output_type": "display_data"
    }
   ],
   "source": [
    "fig, ax = plt.subplots(figsize=(10,7))\n",
    "\n",
    "for r in df['regime'].unique():\n",
    "    ix = df['regime'] == r\n",
    "    kmf.fit(df['duration'].loc[ix], df['observed'].loc[ix], label=r)\n",
    "    kmf.survival_function_.plot(ax=ax)\n",
    "plt.title('Estimated probability of government survival vs number of years')\n",
    "plt.xlabel('Time (in years)')\n",
    "plt.ylabel('Estimated probability of government survival')\n",
    "plt.show()"
   ]
  },
  {
   "cell_type": "code",
   "execution_count": 18,
   "metadata": {
    "ExecuteTime": {
     "end_time": "2020-01-09T22:37:17.690930Z",
     "start_time": "2020-01-09T22:37:17.134877Z"
    },
    "scrolled": false,
    "slideshow": {
     "slide_type": "slide"
    }
   },
   "outputs": [
    {
     "data": {
      "image/png": "[encoded data removed]",
      "text/plain": [
       "<Figure size 720x504 with 1 Axes>"
      ]
     },
     "metadata": {},
     "output_type": "display_data"
    }
   ],
   "source": [
    "fig, ax = plt.subplots(figsize=(10,7))\n",
    "for r in df['un_continent_name'].unique():\n",
    "    ix = df['un_continent_name'] == r\n",
    "    kmf.fit(df['duration'].loc[ix], df['observed'].loc[ix], label=r)\n",
    "    kmf.plot(ax=ax)\n",
    "plt.title('Estimated probability of government survival vs number of years')\n",
    "plt.xlabel('Time (in years)')\n",
    "plt.ylabel('Estimated probability of government survival')\n",
    "plt.show()"
   ]
  },
  {
   "cell_type": "code",
   "execution_count": 19,
   "metadata": {
    "ExecuteTime": {
     "end_time": "2020-01-09T22:37:17.723699Z",
     "start_time": "2020-01-09T22:37:17.694880Z"
    },
    "scrolled": false,
    "slideshow": {
     "slide_type": "skip"
    }
   },
   "outputs": [
    {
     "data": {
      "text/html": [
       "<div>\n",
       "<style scoped>\n",
       "    .dataframe tbody tr th:only-of-type {\n",
       "        vertical-align: middle;\n",
       "    }\n",
       "\n",
       "    .dataframe tbody tr th {\n",
       "        vertical-align: top;\n",
       "    }\n",
       "\n",
       "    .dataframe thead th {\n",
       "        text-align: right;\n",
       "    }\n",
       "</style>\n",
       "<table border=\"1\" class=\"dataframe\">\n",
       "  <thead>\n",
       "    <tr style=\"text-align: right;\">\n",
       "      <th></th>\n",
       "      <th>ctryname</th>\n",
       "      <th>un_region_name</th>\n",
       "      <th>un_continent_name</th>\n",
       "      <th>ehead</th>\n",
       "      <th>democracy</th>\n",
       "      <th>regime</th>\n",
       "      <th>start_year</th>\n",
       "      <th>duration</th>\n",
       "      <th>observed</th>\n",
       "    </tr>\n",
       "  </thead>\n",
       "  <tbody>\n",
       "    <tr>\n",
       "      <th>1721</th>\n",
       "      <td>United States of America</td>\n",
       "      <td>Northern America</td>\n",
       "      <td>Americas</td>\n",
       "      <td>George Bush</td>\n",
       "      <td>Democracy</td>\n",
       "      <td>Presidential Dem</td>\n",
       "      <td>1989</td>\n",
       "      <td>4</td>\n",
       "      <td>1</td>\n",
       "    </tr>\n",
       "    <tr>\n",
       "      <th>1722</th>\n",
       "      <td>United States of America</td>\n",
       "      <td>Northern America</td>\n",
       "      <td>Americas</td>\n",
       "      <td>Bill Clinton</td>\n",
       "      <td>Democracy</td>\n",
       "      <td>Presidential Dem</td>\n",
       "      <td>1993</td>\n",
       "      <td>8</td>\n",
       "      <td>1</td>\n",
       "    </tr>\n",
       "    <tr>\n",
       "      <th>1723</th>\n",
       "      <td>United States of America</td>\n",
       "      <td>Northern America</td>\n",
       "      <td>Americas</td>\n",
       "      <td>George W. Bush</td>\n",
       "      <td>Democracy</td>\n",
       "      <td>Presidential Dem</td>\n",
       "      <td>2001</td>\n",
       "      <td>8</td>\n",
       "      <td>0</td>\n",
       "    </tr>\n",
       "  </tbody>\n",
       "</table>\n",
       "</div>"
      ],
      "text/plain": [
       "                      ctryname    un_region_name un_continent_name  \\\n",
       "1721  United States of America  Northern America          Americas   \n",
       "1722  United States of America  Northern America          Americas   \n",
       "1723  United States of America  Northern America          Americas   \n",
       "\n",
       "               ehead  democracy            regime  start_year  duration  \\\n",
       "1721     George Bush  Democracy  Presidential Dem        1989         4   \n",
       "1722    Bill Clinton  Democracy  Presidential Dem        1993         8   \n",
       "1723  George W. Bush  Democracy  Presidential Dem        2001         8   \n",
       "\n",
       "      observed  \n",
       "1721         1  \n",
       "1722         1  \n",
       "1723         0  "
      ]
     },
     "execution_count": 19,
     "metadata": {},
     "output_type": "execute_result"
    }
   ],
   "source": [
    "df.query('ctryname == \"United States of America\"').tail(3)"
   ]
  },
  {
   "cell_type": "code",
   "execution_count": 20,
   "metadata": {
    "ExecuteTime": {
     "end_time": "2020-01-09T22:37:17.748036Z",
     "start_time": "2020-01-09T22:37:17.725349Z"
    },
    "scrolled": false,
    "slideshow": {
     "slide_type": "skip"
    }
   },
   "outputs": [
    {
     "data": {
      "text/html": [
       "<div>\n",
       "<style scoped>\n",
       "    .dataframe tbody tr th:only-of-type {\n",
       "        vertical-align: middle;\n",
       "    }\n",
       "\n",
       "    .dataframe tbody tr th {\n",
       "        vertical-align: top;\n",
       "    }\n",
       "\n",
       "    .dataframe thead th {\n",
       "        text-align: right;\n",
       "    }\n",
       "</style>\n",
       "<table border=\"1\" class=\"dataframe\">\n",
       "  <thead>\n",
       "    <tr style=\"text-align: right;\">\n",
       "      <th></th>\n",
       "      <th>ctryname</th>\n",
       "      <th>un_region_name</th>\n",
       "      <th>un_continent_name</th>\n",
       "      <th>ehead</th>\n",
       "      <th>democracy</th>\n",
       "      <th>regime</th>\n",
       "      <th>start_year</th>\n",
       "      <th>duration</th>\n",
       "      <th>observed</th>\n",
       "    </tr>\n",
       "  </thead>\n",
       "  <tbody>\n",
       "    <tr>\n",
       "      <th>1710</th>\n",
       "      <td>United Kingdom</td>\n",
       "      <td>Northern Europe</td>\n",
       "      <td>Europe</td>\n",
       "      <td>John Major</td>\n",
       "      <td>Democracy</td>\n",
       "      <td>Parliamentary Dem</td>\n",
       "      <td>1990</td>\n",
       "      <td>7</td>\n",
       "      <td>1</td>\n",
       "    </tr>\n",
       "    <tr>\n",
       "      <th>1711</th>\n",
       "      <td>United Kingdom</td>\n",
       "      <td>Northern Europe</td>\n",
       "      <td>Europe</td>\n",
       "      <td>Tony Blair</td>\n",
       "      <td>Democracy</td>\n",
       "      <td>Parliamentary Dem</td>\n",
       "      <td>1997</td>\n",
       "      <td>10</td>\n",
       "      <td>1</td>\n",
       "    </tr>\n",
       "    <tr>\n",
       "      <th>1712</th>\n",
       "      <td>United Kingdom</td>\n",
       "      <td>Northern Europe</td>\n",
       "      <td>Europe</td>\n",
       "      <td>Gordon Brown</td>\n",
       "      <td>Democracy</td>\n",
       "      <td>Parliamentary Dem</td>\n",
       "      <td>2007</td>\n",
       "      <td>2</td>\n",
       "      <td>0</td>\n",
       "    </tr>\n",
       "  </tbody>\n",
       "</table>\n",
       "</div>"
      ],
      "text/plain": [
       "            ctryname   un_region_name un_continent_name         ehead  \\\n",
       "1710  United Kingdom  Northern Europe            Europe    John Major   \n",
       "1711  United Kingdom  Northern Europe            Europe    Tony Blair   \n",
       "1712  United Kingdom  Northern Europe            Europe  Gordon Brown   \n",
       "\n",
       "      democracy             regime  start_year  duration  observed  \n",
       "1710  Democracy  Parliamentary Dem        1990         7         1  \n",
       "1711  Democracy  Parliamentary Dem        1997        10         1  \n",
       "1712  Democracy  Parliamentary Dem        2007         2         0  "
      ]
     },
     "execution_count": 20,
     "metadata": {},
     "output_type": "execute_result"
    }
   ],
   "source": [
    "df.query('ctryname == \"United Kingdom\"').tail(3)"
   ]
  },
  {
   "cell_type": "code",
   "execution_count": 21,
   "metadata": {
    "ExecuteTime": {
     "end_time": "2020-01-09T22:37:18.129226Z",
     "start_time": "2020-01-09T22:37:17.749639Z"
    },
    "slideshow": {
     "slide_type": "skip"
    }
   },
   "outputs": [
    {
     "data": {
      "image/png": "[encoded data removed]",
      "text/plain": [
       "<Figure size 720x504 with 1 Axes>"
      ]
     },
     "metadata": {},
     "output_type": "display_data"
    }
   ],
   "source": [
    "ix_US = df['ctryname'] == 'United States of America'\n",
    "ix_UK = df['ctryname'] == 'United Kingdom'\n",
    "\n",
    "kmf_US = KaplanMeierFitter()\n",
    "kmf_US.fit(df['duration'].loc[ix_US], df['observed'].loc[ix_US], label='USA')\n",
    "\n",
    "kmf_UK = KaplanMeierFitter()\n",
    "kmf_UK.fit(df['duration'].loc[ix_UK], df['observed'].loc[ix_UK], label='UK')\n",
    "\n",
    "plt.figure(figsize=(10,7))\n",
    "ax = plt.subplot(111)\n",
    "kmf_US.plot(ax=ax)\n",
    "kmf_UK.plot(ax=ax)\n",
    "plt.title('Estimated probability of government survival vs number of years')\n",
    "plt.xlabel('Time (in years)')\n",
    "plt.ylabel('Estimated probability of government survival')\n",
    "plt.show()"
   ]
  },
  {
   "cell_type": "code",
   "execution_count": 22,
   "metadata": {
    "scrolled": false
   },
   "outputs": [
    {
     "data": {
      "text/plain": [
       "Index(['ctryname', 'un_region_name', 'un_continent_name', 'ehead', 'democracy',\n",
       "       'regime', 'start_year', 'duration', 'observed'],\n",
       "      dtype='object')"
      ]
     },
     "execution_count": 22,
     "metadata": {},
     "output_type": "execute_result"
    }
   ],
   "source": [
    "df.columns"
   ]
  },
  {
   "cell_type": "code",
   "execution_count": 23,
   "metadata": {
    "scrolled": true
   },
   "outputs": [],
   "source": [
    "df = df.drop(columns=['ctryname', 'un_region_name', 'ehead', 'regime', 'start_year'])"
   ]
  },
  {
   "cell_type": "code",
   "execution_count": 24,
   "metadata": {},
   "outputs": [
    {
     "data": {
      "text/plain": [
       "Index(['un_continent_name', 'democracy', 'duration', 'observed'], dtype='object')"
      ]
     },
     "execution_count": 24,
     "metadata": {},
     "output_type": "execute_result"
    }
   ],
   "source": [
    "df.columns"
   ]
  },
  {
   "cell_type": "code",
   "execution_count": 25,
   "metadata": {},
   "outputs": [],
   "source": [
    "# df_hazard = pd.get_dummies(df, drop_first=True, columns=df.columns.drop(['duration', 'observed']))\n",
    "df_hazard = pd.get_dummies(df, columns=df.columns.drop(['duration', 'observed']))"
   ]
  },
  {
   "cell_type": "code",
   "execution_count": 26,
   "metadata": {},
   "outputs": [
    {
     "data": {
      "text/plain": [
       "Index(['duration', 'observed', 'un_continent_name_Africa',\n",
       "       'un_continent_name_Americas', 'un_continent_name_Asia',\n",
       "       'un_continent_name_Europe', 'un_continent_name_Oceania',\n",
       "       'democracy_Democracy', 'democracy_Non-democracy'],\n",
       "      dtype='object')"
      ]
     },
     "execution_count": 26,
     "metadata": {},
     "output_type": "execute_result"
    }
   ],
   "source": [
    "df_hazard.columns"
   ]
  },
  {
   "cell_type": "code",
   "execution_count": 27,
   "metadata": {},
   "outputs": [],
   "source": [
    "df_hazard = df_hazard.drop(columns=['un_continent_name_Americas', 'democracy_Democracy'])"
   ]
  },
  {
   "cell_type": "code",
   "execution_count": 28,
   "metadata": {},
   "outputs": [
    {
     "data": {
      "text/plain": [
       "Index(['duration', 'observed', 'un_continent_name_Africa',\n",
       "       'un_continent_name_Asia', 'un_continent_name_Europe',\n",
       "       'un_continent_name_Oceania', 'democracy_Non-democracy'],\n",
       "      dtype='object')"
      ]
     },
     "execution_count": 28,
     "metadata": {},
     "output_type": "execute_result"
    }
   ],
   "source": [
    "df_hazard.columns"
   ]
  },
  {
   "cell_type": "markdown",
   "metadata": {},
   "source": [
    "# Multivariate Cox regression"
   ]
  },
  {
   "cell_type": "code",
   "execution_count": 29,
   "metadata": {},
   "outputs": [
    {
     "data": {
      "text/html": [
       "<div>\n",
       "<style scoped>\n",
       "    .dataframe tbody tr th:only-of-type {\n",
       "        vertical-align: middle;\n",
       "    }\n",
       "\n",
       "    .dataframe tbody tr th {\n",
       "        vertical-align: top;\n",
       "    }\n",
       "\n",
       "    .dataframe thead th {\n",
       "        text-align: right;\n",
       "    }\n",
       "</style>\n",
       "<table border=\"1\" class=\"dataframe\">\n",
       "  <tbody>\n",
       "    <tr>\n",
       "      <th>model</th>\n",
       "      <td>lifelines.CoxPHFitter</td>\n",
       "    </tr>\n",
       "    <tr>\n",
       "      <th>duration col</th>\n",
       "      <td>'duration'</td>\n",
       "    </tr>\n",
       "    <tr>\n",
       "      <th>event col</th>\n",
       "      <td>'observed'</td>\n",
       "    </tr>\n",
       "    <tr>\n",
       "      <th>penalizer</th>\n",
       "      <td>0.1</td>\n",
       "    </tr>\n",
       "    <tr>\n",
       "      <th>l1 ratio</th>\n",
       "      <td>0</td>\n",
       "    </tr>\n",
       "    <tr>\n",
       "      <th>baseline estimation</th>\n",
       "      <td>breslow</td>\n",
       "    </tr>\n",
       "    <tr>\n",
       "      <th>number of observations</th>\n",
       "      <td>1808</td>\n",
       "    </tr>\n",
       "    <tr>\n",
       "      <th>number of events observed</th>\n",
       "      <td>1468</td>\n",
       "    </tr>\n",
       "    <tr>\n",
       "      <th>partial log-likelihood</th>\n",
       "      <td>-9613.12</td>\n",
       "    </tr>\n",
       "    <tr>\n",
       "      <th>time fit was run</th>\n",
       "      <td>2020-05-17 22:05:14 UTC</td>\n",
       "    </tr>\n",
       "  </tbody>\n",
       "</table>\n",
       "</div><table border=\"1\" class=\"dataframe\">\n",
       "  <thead>\n",
       "    <tr style=\"text-align: right;\">\n",
       "      <th></th>\n",
       "      <th>coef</th>\n",
       "      <th>exp(coef)</th>\n",
       "      <th>se(coef)</th>\n",
       "      <th>coef lower 95%</th>\n",
       "      <th>coef upper 95%</th>\n",
       "      <th>exp(coef) lower 95%</th>\n",
       "      <th>exp(coef) upper 95%</th>\n",
       "      <th>z</th>\n",
       "      <th>p</th>\n",
       "      <th>-log2(p)</th>\n",
       "    </tr>\n",
       "  </thead>\n",
       "  <tbody>\n",
       "    <tr>\n",
       "      <th>un_continent_name_Africa</th>\n",
       "      <td>-0.20</td>\n",
       "      <td>0.82</td>\n",
       "      <td>0.08</td>\n",
       "      <td>-0.36</td>\n",
       "      <td>-0.04</td>\n",
       "      <td>0.70</td>\n",
       "      <td>0.96</td>\n",
       "      <td>-2.48</td>\n",
       "      <td>0.01</td>\n",
       "      <td>6.25</td>\n",
       "    </tr>\n",
       "    <tr>\n",
       "      <th>un_continent_name_Asia</th>\n",
       "      <td>-0.06</td>\n",
       "      <td>0.95</td>\n",
       "      <td>0.07</td>\n",
       "      <td>-0.20</td>\n",
       "      <td>0.09</td>\n",
       "      <td>0.82</td>\n",
       "      <td>1.09</td>\n",
       "      <td>-0.77</td>\n",
       "      <td>0.44</td>\n",
       "      <td>1.19</td>\n",
       "    </tr>\n",
       "    <tr>\n",
       "      <th>un_continent_name_Europe</th>\n",
       "      <td>0.23</td>\n",
       "      <td>1.26</td>\n",
       "      <td>0.06</td>\n",
       "      <td>0.11</td>\n",
       "      <td>0.35</td>\n",
       "      <td>1.12</td>\n",
       "      <td>1.43</td>\n",
       "      <td>3.79</td>\n",
       "      <td>&lt;0.005</td>\n",
       "      <td>12.70</td>\n",
       "    </tr>\n",
       "    <tr>\n",
       "      <th>un_continent_name_Oceania</th>\n",
       "      <td>-0.12</td>\n",
       "      <td>0.89</td>\n",
       "      <td>0.11</td>\n",
       "      <td>-0.33</td>\n",
       "      <td>0.10</td>\n",
       "      <td>0.72</td>\n",
       "      <td>1.10</td>\n",
       "      <td>-1.07</td>\n",
       "      <td>0.29</td>\n",
       "      <td>1.80</td>\n",
       "    </tr>\n",
       "    <tr>\n",
       "      <th>democracy_Non-democracy</th>\n",
       "      <td>-0.72</td>\n",
       "      <td>0.49</td>\n",
       "      <td>0.06</td>\n",
       "      <td>-0.84</td>\n",
       "      <td>-0.60</td>\n",
       "      <td>0.43</td>\n",
       "      <td>0.55</td>\n",
       "      <td>-11.48</td>\n",
       "      <td>&lt;0.005</td>\n",
       "      <td>98.97</td>\n",
       "    </tr>\n",
       "  </tbody>\n",
       "</table><div>\n",
       "<style scoped>\n",
       "    .dataframe tbody tr th:only-of-type {\n",
       "        vertical-align: middle;\n",
       "    }\n",
       "\n",
       "    .dataframe tbody tr th {\n",
       "        vertical-align: top;\n",
       "    }\n",
       "\n",
       "    .dataframe thead th {\n",
       "        text-align: right;\n",
       "    }\n",
       "</style>\n",
       "<table border=\"1\" class=\"dataframe\">\n",
       "  <tbody>\n",
       "    <tr>\n",
       "      <th>Concordance</th>\n",
       "      <td>0.62</td>\n",
       "    </tr>\n",
       "    <tr>\n",
       "      <th>Log-likelihood ratio test</th>\n",
       "      <td>266.31 on 5 df</td>\n",
       "    </tr>\n",
       "    <tr>\n",
       "      <th>-log2(p) of ll-ratio test</th>\n",
       "      <td>181.91</td>\n",
       "    </tr>\n",
       "  </tbody>\n",
       "</table>\n",
       "</div>"
      ],
      "text/plain": [
       "<IPython.core.display.HTML object>"
      ]
     },
     "metadata": {},
     "output_type": "display_data"
    }
   ],
   "source": [
    "from lifelines import CoxPHFitter\n",
    "\n",
    "cph = CoxPHFitter(penalizer=0.1)\n",
    "cph.fit(df_hazard, 'duration', 'observed')\n",
    "cph.print_summary()"
   ]
  },
  {
   "cell_type": "code",
   "execution_count": 30,
   "metadata": {},
   "outputs": [
    {
     "data": {
      "image/png": "[encoded data removed]",
      "text/plain": [
       "<Figure size 864x504 with 1 Axes>"
      ]
     },
     "metadata": {},
     "output_type": "display_data"
    }
   ],
   "source": [
    "fig_coef, ax_coef = plt.subplots(figsize=(12,7))\n",
    "ax_coef.set_title('Survival Regression: Coefficients and Confident Intervals')\n",
    "cph.plot(ax=ax_coef)\n",
    "plt.show()"
   ]
  },
  {
   "cell_type": "code",
   "execution_count": null,
   "metadata": {},
   "outputs": [],
   "source": []
  }
 ],
 "metadata": {
  "kernelspec": {
   "display_name": "Python 3",
   "language": "python",
   "name": "python3"
  },
  "language_info": {
   "codemirror_mode": {
    "name": "ipython",
    "version": 3
   },
   "file_extension": ".py",
   "mimetype": "text/x-python",
   "name": "python",
   "nbconvert_exporter": "python",
   "pygments_lexer": "ipython3",
   "version": "3.8.2"
  }
 },
 "nbformat": 4,
 "nbformat_minor": 4
}
